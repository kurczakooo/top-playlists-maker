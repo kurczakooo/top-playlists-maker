{
 "cells": [
  {
   "cell_type": "markdown",
   "id": "5a35dec2",
   "metadata": {},
   "source": [
    "## Daily updated top 200 global spotify playlist "
   ]
  },
  {
   "cell_type": "markdown",
   "id": "47049dda",
   "metadata": {},
   "source": [
    "MAKE A CD PIPELINE THAT CONVERTS NOTEBOOKS TO PY FILES CAUSE LOGGER DOESN\"T WORK"
   ]
  },
  {
   "cell_type": "markdown",
   "id": "efa79fbb",
   "metadata": {},
   "source": [
    "### 0. Import libraries"
   ]
  },
  {
   "cell_type": "code",
   "execution_count": null,
   "id": "81fbf6b9",
   "metadata": {},
   "outputs": [],
   "source": [
    "from selenium import webdriver\n",
    "from selenium.webdriver.chrome.service import Service\n",
    "from webdriver_manager.chrome import ChromeDriverManager\n",
    "\n",
    "import sys\n",
    "sys.path.append(\"../../\")\n",
    "\n",
    "from spotify_auth import sp\n",
    "from config import setup_logger\n",
    "from src.common.chromedriver_config.chromedriver_config import chrome_options, user_agent_string_override_command\n",
    "from src.common.validation import vaildate_top_df\n",
    "from src.common.scraping import scrape_billboard_global_200, filter_names_artists_pos\n",
    "from src.common.spotify import update_top_playlist_global, get_songs_ids_from_spotify\n"
   ]
  },
  {
   "cell_type": "markdown",
   "id": "4f8cfa9e",
   "metadata": {},
   "source": [
    "### 1. Custom functions"
   ]
  },
  {
   "cell_type": "code",
   "execution_count": null,
   "id": "a449d6ad",
   "metadata": {},
   "outputs": [],
   "source": []
  },
  {
   "cell_type": "markdown",
   "id": "7e1d47b1",
   "metadata": {},
   "source": [
    "### 2. Environment variables"
   ]
  },
  {
   "cell_type": "code",
   "execution_count": 6,
   "id": "6fd922ee",
   "metadata": {},
   "outputs": [],
   "source": [
    "global_200_url = \"https://www.billboard.com/charts/billboard-global-200/\"\n",
    "\n",
    "html_class = 'o-chart-results-list-row-container'\n",
    "pos_class = 'c-label a-font-primary-bold-l u-font-size-32@tablet u-letter-spacing-0080@tablet'\n",
    "song_html_id = 'title-of-a-story'\n",
    "artist_class = 'a-no-trucate'\n",
    "\n",
    "top_df_columns = ['pos', 'title', 'artist']\n",
    "top_200_playlist_name = 'DAILY TOP 200'"
   ]
  },
  {
   "cell_type": "markdown",
   "id": "17e8da82",
   "metadata": {},
   "source": [
    "### 3. Run the code"
   ]
  },
  {
   "cell_type": "code",
   "execution_count": null,
   "id": "e8a6180d",
   "metadata": {},
   "outputs": [],
   "source": [
    "logger = setup_logger(\"top_200_global_daily.py\")\n",
    "logger.info('Starting job initialization.')\n",
    "\n",
    "service = Service(ChromeDriverManager().install())  \n",
    "driver = webdriver.Chrome(service = service, options = chrome_options)\n",
    "driver.set_page_load_timeout(60)\n",
    "\n",
    "logger.info('Webdriver setup complete.')"
   ]
  },
  {
   "cell_type": "code",
   "execution_count": null,
   "id": "20882947",
   "metadata": {},
   "outputs": [],
   "source": [
    "# SCRAPING THE TOP 200 GLOABAL FROM BILLBOARD\n",
    "logger.info('Scraping top 200 global from billboard.')\n",
    "try:\n",
    "    driver.execute_cdp_cmd('Network.setUserAgentOverride', {'userAgent' : user_agent_string_override_command})\n",
    "\n",
    "    driver.get(global_200_url)\n",
    "\n",
    "    songs = scrape_billboard_global_200(driver, html_class)\n",
    "except Exception as e:\n",
    "    \n",
    "    logger.error(f'Error scraping top 200 global from billboard\\n{e}')\n",
    "\n",
    "assert len(songs) == 200, 'Number of html elements is not 200.'\n",
    "\n",
    "# TRASFORMING THE DATA TO A DF, DO QC\n",
    "logger.info('Transforming the data to a DataFrame, doing quality checks.')\n",
    "top_200_df = filter_names_artists_pos(songs, \n",
    "                                      song_html_id, \n",
    "                                      artist_class, \n",
    "                                      pos_class, \n",
    "                                      top_df_columns)\n",
    "\n",
    "assert vaildate_top_df(top_200_df, required_count=200, required_columns=top_df_columns) == 'OK', 'QC fail.'\n",
    "    \n",
    "logger.info('Getting songs from Spotify and updating the playlist.')\n",
    "try:\n",
    "    # GET SONGS FROM SPOTIFY\n",
    "    top_200_df = get_songs_ids_from_spotify(top_200_df, sp)\n",
    "\n",
    "    # REFRESH TOP 200 GLOBAL PLAYLIST\n",
    "    top_200_df = update_top_playlist_global(top_200_df, sp, top_200_playlist_name)\n",
    "except Exception as e:\n",
    "    logger.error(f'Matching Spotify songs or updating playlist fail.\\n{e}')"
   ]
  },
  {
   "cell_type": "code",
   "execution_count": null,
   "id": "c680e82f",
   "metadata": {},
   "outputs": [],
   "source": [
    "logger.info('Saving the DataFrame to a file.')\n",
    "\n",
    "top_200_df.to_csv(\"../data/top_200_global.csv\")\n",
    "\n",
    "logger.info('Job finished.')"
   ]
  }
 ],
 "metadata": {
  "kernelspec": {
   "display_name": "SpotifyPlaylistMaker",
   "language": "python",
   "name": "python3"
  },
  "language_info": {
   "codemirror_mode": {
    "name": "ipython",
    "version": 3
   },
   "file_extension": ".py",
   "mimetype": "text/x-python",
   "name": "python",
   "nbconvert_exporter": "python",
   "pygments_lexer": "ipython3",
   "version": "3.12.8"
  }
 },
 "nbformat": 4,
 "nbformat_minor": 5
}
