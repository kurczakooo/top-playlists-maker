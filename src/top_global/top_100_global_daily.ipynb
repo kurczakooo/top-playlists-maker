{
 "cells": [
  {
   "cell_type": "markdown",
   "id": "596d8b9b",
   "metadata": {},
   "source": [
    "## Daily updated top 100 global spotify playlist "
   ]
  },
  {
   "cell_type": "markdown",
   "id": "9bae69ca",
   "metadata": {},
   "source": [
    "### 0. Import libraries"
   ]
  },
  {
   "cell_type": "code",
   "execution_count": 1,
   "id": "cc48c421",
   "metadata": {},
   "outputs": [],
   "source": [
    "import pandas as pd\n",
    "\n",
    "import sys\n",
    "sys.path.append(\"../../\")\n",
    "\n",
    "from config import sp, setup_logger\n",
    "\n",
    "from src.common.validation import vaildate_top_df\n",
    "from src.common.spotify import update_top_playlist_global"
   ]
  },
  {
   "cell_type": "markdown",
   "id": "9fdd0720",
   "metadata": {},
   "source": [
    "### 1. Custom functions"
   ]
  },
  {
   "cell_type": "code",
   "execution_count": 2,
   "id": "94165723",
   "metadata": {},
   "outputs": [],
   "source": [
    "def load_top_100_df(path: str) -> pd.DataFrame:\n",
    "    \n",
    "    df = pd.read_csv(path, index_col=0)\n",
    "    \n",
    "    return df.loc[ : 99, : ]"
   ]
  },
  {
   "cell_type": "markdown",
   "id": "6be05928",
   "metadata": {},
   "source": [
    "### 2. Environment variables"
   ]
  },
  {
   "cell_type": "code",
   "execution_count": 3,
   "id": "dc3d5720",
   "metadata": {},
   "outputs": [],
   "source": [
    "top_200_csv_path = \"../data/top_200_global.csv\"\n",
    "\n",
    "top_df_columns = ['pos', 'title', 'artist']\n",
    "\n",
    "top_100_playlist_name = 'DAILY TOP 100'"
   ]
  },
  {
   "cell_type": "markdown",
   "id": "157a8487",
   "metadata": {},
   "source": [
    "### 3. Run the code"
   ]
  },
  {
   "cell_type": "code",
   "execution_count": null,
   "id": "2987fa53",
   "metadata": {},
   "outputs": [
    {
     "name": "stderr",
     "output_type": "stream",
     "text": [
      "2025-04-27 18:51:26 | INFO | top_200_global_daily.ipynb | Starting job initialization.\n",
      "\n"
     ]
    }
   ],
   "source": [
    "logger = setup_logger(\"top_200_global_daily.py\")\n",
    "logger.info('Starting job initialization.')"
   ]
  },
  {
   "cell_type": "code",
   "execution_count": null,
   "id": "adf18da1",
   "metadata": {},
   "outputs": [],
   "source": [
    "logger.info('Reading the csv with songs.')\n",
    "# LOAD TOP 200 SONGS SCRAPED FROM BILLBOARD\n",
    "top_100_df = load_top_100_df(top_200_csv_path)\n",
    "\n",
    "# DQ\n",
    "assert vaildate_top_df(top_100_df, required_count=100, required_columns=top_df_columns) == 'OK', 'QC fail.'\n",
    "\n",
    "logger.info('Updating the playlist.')\n",
    "try:\n",
    "    # UPDATING THE PLAYLIST\n",
    "    top_100_df = update_top_playlist_global(top_100_df, sp, top_100_playlist_name)\n",
    "except Exception as e:\n",
    "    logger.error(f'Updating playlist fail.\\n{e}')\n",
    "    \n",
    "\n",
    "logger.info('Job finished.')"
   ]
  }
 ],
 "metadata": {
  "kernelspec": {
   "display_name": "SpotifyPlaylistMaker",
   "language": "python",
   "name": "python3"
  },
  "language_info": {
   "codemirror_mode": {
    "name": "ipython",
    "version": 3
   },
   "file_extension": ".py",
   "mimetype": "text/x-python",
   "name": "python",
   "nbconvert_exporter": "python",
   "pygments_lexer": "ipython3",
   "version": "3.12.8"
  }
 },
 "nbformat": 4,
 "nbformat_minor": 5
}
