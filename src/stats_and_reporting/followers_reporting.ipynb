{
 "cells": [
  {
   "cell_type": "markdown",
   "id": "23931a46",
   "metadata": {},
   "source": [
    "# Daily run script to generate playlists followers reports"
   ]
  },
  {
   "cell_type": "markdown",
   "id": "3e690aab",
   "metadata": {},
   "source": [
    "### 0. Import libraries"
   ]
  },
  {
   "cell_type": "code",
   "execution_count": 195,
   "id": "a9d9d26b",
   "metadata": {},
   "outputs": [],
   "source": [
    "import sys\n",
    "sys.path.append(\"../../\")\n",
    "\n",
    "from src.common.spotify_auth import sp\n",
    "from src.common.config import setup_logger\n",
    "\n",
    "from spotipy import Spotify\n",
    "import pandas as pd\n",
    "import requests\n",
    "from datetime import date, timedelta\n",
    "import matplotlib.pyplot as plt\n",
    "import seaborn as sns\n",
    "from reportlab.pdfgen import canvas\n",
    "from reportlab.lib.pagesizes import A4\n",
    "\n",
    "from io import BytesIO\n",
    "from PIL import Image\n",
    "import os\n",
    "import logging"
   ]
  },
  {
   "cell_type": "markdown",
   "id": "db166607",
   "metadata": {},
   "source": [
    "### 1. Custom functions"
   ]
  },
  {
   "cell_type": "code",
   "execution_count": 139,
   "id": "fcf383fc",
   "metadata": {},
   "outputs": [],
   "source": [
    "def get_playlists_data(sp: Spotify, cover_images_folder: str) -> pd.DataFrame:\n",
    "    playlists = sp.current_user_playlists()\n",
    "    data = {}\n",
    "    \n",
    "    for playlist in playlists['items']:\n",
    "        name = playlist['name']\n",
    "        name = \"_\".join(name.split())\n",
    "        playlist_id = playlist['id']\n",
    "        \n",
    "        # looking for the playlist based on id to get details\n",
    "        playlist_details = sp.playlist(playlist_id)\n",
    "        followers = playlist_details['followers']['total']\n",
    "        data.update({name : int(followers)})        \n",
    "        \n",
    "        # getting and saving playlist cover to a file\n",
    "        cover_url = playlist_details['images'][0]['url']\n",
    "        response = requests.get(cover_url)\n",
    "        response.raise_for_status()\n",
    "        cover_image = Image.open(BytesIO(response.content))\n",
    "        cover_image.save(f\"{cover_images_folder}{name}.png\")\n",
    "      \n",
    "    data_df = pd.DataFrame(data = [data])\n",
    "    data_df.index = [pd.to_datetime(date.today())]\n",
    "\n",
    "    return data_df"
   ]
  },
  {
   "cell_type": "code",
   "execution_count": 140,
   "id": "45badc8c",
   "metadata": {},
   "outputs": [],
   "source": [
    "def update_the_historical_data(data_df: pd.DataFrame, csv_url: str = \"../data/follower_count.csv\") -> pd.DataFrame:\n",
    "    \n",
    "    hist_df = pd.read_csv(csv_url, index_col = 0)\n",
    "    \n",
    "    hist_df.index = pd.to_datetime(hist_df.index)\n",
    "    hist_df = hist_df.astype(int)\n",
    "    \n",
    "    try:\n",
    "        updated_df = pd.concat([hist_df, data_df], verify_integrity=True)\n",
    "        \n",
    "        updated_df.to_csv(csv_url)\n",
    "    \n",
    "    except ValueError:\n",
    "        common_indexes = hist_df.index.intersection(data_df.index)\n",
    "        hist_df = hist_df.drop(index=common_indexes)\n",
    "        updated_df = pd.concat([hist_df, data_df], verify_integrity=True)\n",
    "        updated_df.to_csv(csv_url)\n",
    "\n",
    "    \n",
    "    return updated_df"
   ]
  },
  {
   "cell_type": "code",
   "execution_count": null,
   "id": "ebe093db",
   "metadata": {},
   "outputs": [],
   "source": [
    "def create_followers_chart(followers_df: pd.DataFrame, days_traceback: int = 365):\n",
    "    \n",
    "    sns.set_style(\"white\", {\"grid.color\": \"#2A2A2A\"})\n",
    "\n",
    "    fig, ax = plt.subplots(figsize=(7, 2))\n",
    "\n",
    "    last_30_days_df = followers_df[followers_df.index > pd.Timestamp(date.today()) - timedelta(days=days_traceback)]\n",
    "    sns.lineplot(data=last_30_days_df, ax=ax, color='#45ad61', linewidth=4)\n",
    "\n",
    "    ax.set_ylabel(\"\", fontsize=5, color='white')\n",
    "    ax.tick_params(axis='x', labelbottom=False)\n",
    "    ax.tick_params(axis='y', labelleft=False)\n",
    "    ax.legend().remove()\n",
    "\n",
    "    ax.grid(color='#808080', axis='y', linestyle='-', linewidth=0.5)\n",
    "\n",
    "    sns.despine()\n",
    "\n",
    "    plt.tight_layout()\n",
    "    name = \"_\".join(last_30_days_df.name.split())\n",
    "    plt.savefig(f\"../data/assets/charts/{name}_last_month_chart.png\")"
   ]
  },
  {
   "cell_type": "code",
   "execution_count": null,
   "id": "50e980cf",
   "metadata": {},
   "outputs": [],
   "source": [
    "def generate_follower_report(name : str,\n",
    "                             charts_url: str,\n",
    "                             covers_url: str,\n",
    "                             followers_df: pd.DataFrame,\n",
    "                             logger: logging.Logger,\n",
    "                             chart_width: int = 140, \n",
    "                             chart_height: int = 40,\n",
    "                             cover_size: int = 30,\n",
    "                             margin: int = 20,\n",
    "                             horizontal_margin: int = 60,\n",
    "                             title_margin: int = 5,\n",
    "                             outline_margin: int = 3,\n",
    "                             main_font_size: int = 10,\n",
    "                             secondary_font_size = 9,\n",
    "                             columns: int = 3, \n",
    "                             page_height: float = A4[1]):\n",
    "    \n",
    "    c = canvas.Canvas(name, pagesize=A4)\n",
    "\n",
    "    x, y = margin, page_height - margin\n",
    "\n",
    "    for i, playlist_name in enumerate(followers_df.columns):\n",
    "        chart_path = f'{charts_url}/{playlist_name}_last_month_chart.png'\n",
    "        cover_path = f'{covers_url}/{playlist_name}.png'\n",
    "        current_followers = followers_df[playlist_name].iloc[-1]\n",
    "        a_week_ago_delta = current_followers - followers_df[playlist_name].iloc[-8]\n",
    "        a_month_ago_delta = current_followers - followers_df[playlist_name].iloc[-31]\n",
    "\n",
    "        try:\n",
    "            # playlist cover\n",
    "            c.drawImage(cover_path, \n",
    "                        x, \n",
    "                        y - cover_size, \n",
    "                        width=cover_size, \n",
    "                        height=cover_size)\n",
    "\n",
    "            # playlist title\n",
    "            display_name = \" \".join((playlist_name.split('.')[0]).split(\"_\"))\n",
    "            if len(display_name) > 20:\n",
    "                display_name = display_name[:20] + \"...\"\n",
    "                \n",
    "            c.setFont(\"Helvetica-Bold\", main_font_size)\n",
    "            c.drawString(x + cover_size + title_margin, \n",
    "                         y - main_font_size + 2, \n",
    "                         display_name)\n",
    "            \n",
    "            # current followers count\n",
    "            c.setFont(\"Helvetica-Bold\", main_font_size)\n",
    "            c.drawString(x + cover_size + title_margin, \n",
    "                         y - main_font_size * 2 - outline_margin, \n",
    "                         str(current_followers))\n",
    "            \n",
    "            # week's growth\n",
    "            c.setFont(\"Helvetica-Bold\", secondary_font_size)\n",
    "            c.drawString(x, \n",
    "                         y - cover_size - chart_height - secondary_font_size, \n",
    "                         \"In the last week: \")\n",
    "            if a_week_ago_delta > 0:\n",
    "                c.setFillColorRGB(0.27, 0.68, 0.38)\n",
    "            else:\n",
    "                c.setFillColorRGB(0.68, 0.27, 0.27)\n",
    "            display_week_value = f'+{a_week_ago_delta}' if a_week_ago_delta > 0 else f'{a_week_ago_delta}'\n",
    "            c.drawString(x + 80, \n",
    "                        y - cover_size - chart_height - secondary_font_size, \n",
    "                        display_week_value)\n",
    "            c.setFillColorRGB(0, 0, 0)\n",
    "            \n",
    "            # month's growth\n",
    "            c.setFont(\"Helvetica-Bold\", secondary_font_size)\n",
    "            c.drawString(x, \n",
    "                         y - cover_size - chart_height - secondary_font_size * 2 - outline_margin, \n",
    "                         \"In the last month: \")\n",
    "            if a_month_ago_delta > 0:\n",
    "                c.setFillColorRGB(0.27, 0.68, 0.38)\n",
    "            else:\n",
    "                c.setFillColorRGB(0.68, 0.27, 0.27)\n",
    "            display_month_value = f'+{a_month_ago_delta}' if a_month_ago_delta > 0 else f'{a_month_ago_delta}'\n",
    "            c.drawString(x + 80, \n",
    "                        y - cover_size - chart_height - secondary_font_size * 2 - outline_margin, \n",
    "                        display_month_value)\n",
    "            c.setFillColorRGB(0, 0, 0)\n",
    "\n",
    "            # line plot image\n",
    "            c.drawImage(chart_path, \n",
    "                        x - outline_margin, \n",
    "                        y - cover_size - chart_height, \n",
    "                        width=chart_width, \n",
    "                        height=chart_height)\n",
    "\n",
    "            # x pos update\n",
    "            x += chart_width + horizontal_margin\n",
    "            if (i + 1) % columns == 0:\n",
    "                x = margin  # reset x\n",
    "                y -= 120  # new line\n",
    "\n",
    "                # new page if theres no space\n",
    "                if y < margin + cover_size:\n",
    "                    c.showPage()\n",
    "                    y = page_height - cover_size - chart_height - 2 * margin\n",
    "                    \n",
    "        except Exception as e:\n",
    "            logger.error(f\"R: {e}\")\n",
    "\n",
    "    c.save()"
   ]
  },
  {
   "cell_type": "markdown",
   "id": "51076f81",
   "metadata": {},
   "source": [
    "### 2. Envinroment variables"
   ]
  },
  {
   "cell_type": "code",
   "execution_count": 143,
   "id": "f345e62c",
   "metadata": {},
   "outputs": [],
   "source": [
    "sp = Spotify(auth = \"BQAClJVmXLkJTDh5N1yIcuvl6ODpV-mp32rSG7PEHAM41YLAPIX6Y5lYVI8wy2xLFCH0wbq-Rs8ssf_DEjY9G945M46eLmOBsFLIGOvNjzKSnd6cdgg0Wkpk0vjqiFjLuNMZQ2YAJ69dIOG-19tZihY1xOPyA2u-2jkMHcJNsuXeYz-3JR5ggkZdcB4Y_8j3vvQ_fu_UN0pv-8f85mweVDyySLGXwk57qm2xV6IEfdIl5JWiCevBEGZPX41gu0fRs_UbZue5BWpOgCz1o_RrdVD8oA-vOZtGSnE9fjKwj0jQ39Te64c2vi3o3XjCIC32SPo95T4\")"
   ]
  },
  {
   "cell_type": "code",
   "execution_count": 144,
   "id": "7c2a92e8",
   "metadata": {},
   "outputs": [],
   "source": [
    "df = get_playlists_data(sp, \"../data/assets/covers/\")"
   ]
  },
  {
   "cell_type": "code",
   "execution_count": 145,
   "id": "0d08806a",
   "metadata": {},
   "outputs": [],
   "source": [
    "updated_df = update_the_historical_data(df)"
   ]
  },
  {
   "cell_type": "code",
   "execution_count": 166,
   "id": "bf8caed4",
   "metadata": {},
   "outputs": [
    {
     "name": "stderr",
     "output_type": "stream",
     "text": [
      "C:\\Users\\damia\\AppData\\Local\\Temp\\ipykernel_17156\\2054710748.py:13: UserWarning: No artists with labels found to put in legend.  Note that artists whose label start with an underscore are ignored when legend() is called with no argument.\n",
      "  ax.legend().remove()\n",
      "C:\\Users\\damia\\AppData\\Local\\Temp\\ipykernel_17156\\2054710748.py:13: UserWarning: No artists with labels found to put in legend.  Note that artists whose label start with an underscore are ignored when legend() is called with no argument.\n",
      "  ax.legend().remove()\n",
      "C:\\Users\\damia\\AppData\\Local\\Temp\\ipykernel_17156\\2054710748.py:13: UserWarning: No artists with labels found to put in legend.  Note that artists whose label start with an underscore are ignored when legend() is called with no argument.\n",
      "  ax.legend().remove()\n",
      "C:\\Users\\damia\\AppData\\Local\\Temp\\ipykernel_17156\\2054710748.py:13: UserWarning: No artists with labels found to put in legend.  Note that artists whose label start with an underscore are ignored when legend() is called with no argument.\n",
      "  ax.legend().remove()\n",
      "C:\\Users\\damia\\AppData\\Local\\Temp\\ipykernel_17156\\2054710748.py:13: UserWarning: No artists with labels found to put in legend.  Note that artists whose label start with an underscore are ignored when legend() is called with no argument.\n",
      "  ax.legend().remove()\n",
      "C:\\Users\\damia\\AppData\\Local\\Temp\\ipykernel_17156\\2054710748.py:13: UserWarning: No artists with labels found to put in legend.  Note that artists whose label start with an underscore are ignored when legend() is called with no argument.\n",
      "  ax.legend().remove()\n",
      "C:\\Users\\damia\\AppData\\Local\\Temp\\ipykernel_17156\\2054710748.py:13: UserWarning: No artists with labels found to put in legend.  Note that artists whose label start with an underscore are ignored when legend() is called with no argument.\n",
      "  ax.legend().remove()\n",
      "C:\\Users\\damia\\AppData\\Local\\Temp\\ipykernel_17156\\2054710748.py:13: UserWarning: No artists with labels found to put in legend.  Note that artists whose label start with an underscore are ignored when legend() is called with no argument.\n",
      "  ax.legend().remove()\n",
      "C:\\Users\\damia\\AppData\\Local\\Temp\\ipykernel_17156\\2054710748.py:13: UserWarning: No artists with labels found to put in legend.  Note that artists whose label start with an underscore are ignored when legend() is called with no argument.\n",
      "  ax.legend().remove()\n",
      "C:\\Users\\damia\\AppData\\Local\\Temp\\ipykernel_17156\\2054710748.py:13: UserWarning: No artists with labels found to put in legend.  Note that artists whose label start with an underscore are ignored when legend() is called with no argument.\n",
      "  ax.legend().remove()\n",
      "C:\\Users\\damia\\AppData\\Local\\Temp\\ipykernel_17156\\2054710748.py:13: UserWarning: No artists with labels found to put in legend.  Note that artists whose label start with an underscore are ignored when legend() is called with no argument.\n",
      "  ax.legend().remove()\n"
     ]
    },
    {
     "data": {
      "image/png": "[encoded data removed]",
      "text/plain": [
       "<Figure size 700x200 with 1 Axes>"
      ]
     },
     "metadata": {},
     "output_type": "display_data"
    },
    {
     "data": {
      "image/png": "[encoded data removed]",
      "text/plain": [
       "<Figure size 700x200 with 1 Axes>"
      ]
     },
     "metadata": {},
     "output_type": "display_data"
    },
    {
     "data": {
      "image/png": "[encoded data removed]",
      "text/plain": [
       "<Figure size 700x200 with 1 Axes>"
      ]
     },
     "metadata": {},
     "output_type": "display_data"
    },
    {
     "data": {
      "image/png": "[encoded data removed]",
      "text/plain": [
       "<Figure size 700x200 with 1 Axes>"
      ]
     },
     "metadata": {},
     "output_type": "display_data"
    },
    {
     "data": {
      "image/png": "[encoded data removed]",
      "text/plain": [
       "<Figure size 700x200 with 1 Axes>"
      ]
     },
     "metadata": {},
     "output_type": "display_data"
    },
    {
     "data": {
      "image/png": "[encoded data removed]",
      "text/plain": [
       "<Figure size 700x200 with 1 Axes>"
      ]
     },
     "metadata": {},
     "output_type": "display_data"
    },
    {
     "data": {
      "image/png": "[encoded data removed]",
      "text/plain": [
       "<Figure size 700x200 with 1 Axes>"
      ]
     },
     "metadata": {},
     "output_type": "display_data"
    },
    {
     "data": {
      "image/png": "[encoded data removed]",
      "text/plain": [
       "<Figure size 700x200 with 1 Axes>"
      ]
     },
     "metadata": {},
     "output_type": "display_data"
    },
    {
     "data": {
      "image/png": "[encoded data removed]",
      "text/plain": [
       "<Figure size 700x200 with 1 Axes>"
      ]
     },
     "metadata": {},
     "output_type": "display_data"
    },
    {
     "data": {
      "image/png": "[encoded data removed]",
      "text/plain": [
       "<Figure size 700x200 with 1 Axes>"
      ]
     },
     "metadata": {},
     "output_type": "display_data"
    },
    {
     "data": {
      "image/png": "[encoded data removed]",
      "text/plain": [
       "<Figure size 700x200 with 1 Axes>"
      ]
     },
     "metadata": {},
     "output_type": "display_data"
    }
   ],
   "source": [
    "for col in updated_df.columns:\n",
    "    create_followers_chart(updated_df[col])\n"
   ]
  },
  {
   "cell_type": "code",
   "execution_count": 192,
   "id": "d1311a66",
   "metadata": {},
   "outputs": [],
   "source": [
    "report_name = \"follower_report.pdf\"\n",
    "charts_url = \"../data/assets/charts\"\n",
    "covers_url = \"../data/assets/covers\""
   ]
  },
  {
   "cell_type": "markdown",
   "id": "e362b2ab",
   "metadata": {},
   "source": [
    "### 3. Run the code"
   ]
  },
  {
   "cell_type": "code",
   "execution_count": 198,
   "id": "463b4fab",
   "metadata": {},
   "outputs": [
    {
     "name": "stderr",
     "output_type": "stream",
     "text": [
      "2025-05-16 20:02:17 | INFO | followers_reporting.py | Starting job initialization.\n",
      "\n"
     ]
    }
   ],
   "source": [
    "logger = setup_logger(\"followers_reporting.py\")\n",
    "logger.info('Starting job initialization.')"
   ]
  },
  {
   "cell_type": "code",
   "execution_count": 235,
   "id": "233cf4b2",
   "metadata": {},
   "outputs": [],
   "source": [
    "generate_follower_report(report_name, \n",
    "                         charts_url, \n",
    "                         covers_url,\n",
    "                         updated_df,\n",
    "                         logger)"
   ]
  }
 ],
 "metadata": {
  "kernelspec": {
   "display_name": "SpotifyPlaylistMaker",
   "language": "python",
   "name": "python3"
  },
  "language_info": {
   "codemirror_mode": {
    "name": "ipython",
    "version": 3
   },
   "file_extension": ".py",
   "mimetype": "text/x-python",
   "name": "python",
   "nbconvert_exporter": "python",
   "pygments_lexer": "ipython3",
   "version": "3.12.8"
  }
 },
 "nbformat": 4,
 "nbformat_minor": 5
}
