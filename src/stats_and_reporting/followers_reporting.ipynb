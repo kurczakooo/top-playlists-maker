{
 "cells": [
  {
   "cell_type": "markdown",
   "id": "23931a46",
   "metadata": {},
   "source": [
    "# Daily run script to generate playlists followers reports"
   ]
  },
  {
   "cell_type": "markdown",
   "id": "3e690aab",
   "metadata": {},
   "source": [
    "### 0. Import libraries"
   ]
  },
  {
   "cell_type": "code",
   "execution_count": 138,
   "id": "a9d9d26b",
   "metadata": {},
   "outputs": [],
   "source": [
    "import sys\n",
    "sys.path.append(\"../../\")\n",
    "\n",
    "from src.common.config import setup_logger\n",
    "from src.common.spotify_auth import execute_spotify_auth\n",
    "from src.common.telegram_alerts import init_telegram_bot, send_daily_follower_report, send_telegram_message\n",
    "\n",
    "from spotipy import Spotify\n",
    "import pandas as pd\n",
    "import requests\n",
    "from datetime import date, timedelta\n",
    "import matplotlib.pyplot as plt\n",
    "import seaborn as sns\n",
    "from reportlab.pdfgen import canvas\n",
    "from reportlab.lib.pagesizes import A4\n",
    "\n",
    "from io import BytesIO\n",
    "from PIL import Image\n",
    "import logging\n",
    "import asyncio\n",
    "import os\n",
    "import subprocess\n",
    "from dotenv import load_dotenv"
   ]
  },
  {
   "cell_type": "markdown",
   "id": "db166607",
   "metadata": {},
   "source": [
    "### 1. Custom functions"
   ]
  },
  {
   "cell_type": "code",
   "execution_count": 139,
   "id": "fcf383fc",
   "metadata": {},
   "outputs": [],
   "source": [
    "def get_playlists_data(sp: Spotify, \n",
    "                       cover_images_folder: str,\n",
    "                       logger: logging.Logger) -> pd.DataFrame:\n",
    "    playlists = sp.current_user_playlists()\n",
    "    data = {}\n",
    "    \n",
    "    for playlist in playlists['items']:\n",
    "        name = playlist['name']\n",
    "        name = \"_\".join(name.split())\n",
    "        playlist_id = playlist['id']\n",
    "        \n",
    "        # looking for the playlist based on id to get details\n",
    "        logger.info(f\"Extracting {name} info.\")\n",
    "        playlist_details = sp.playlist(playlist_id)\n",
    "        followers = playlist_details['followers']['total']\n",
    "        data.update({name : int(followers)})        \n",
    "        \n",
    "        logger.info(f\"Extracting {name} cover image.\")\n",
    "        # getting and saving playlist cover to a file\n",
    "        cover_url = playlist_details['images'][0]['url']\n",
    "        response = requests.get(cover_url)\n",
    "        response.raise_for_status()\n",
    "        cover_image = Image.open(BytesIO(response.content))\n",
    "        cover_image.save(f\"{cover_images_folder}/{name}.png\")\n",
    "      \n",
    "    data_df = pd.DataFrame(data = [data])\n",
    "    data_df.index = [pd.to_datetime(date.today())]\n",
    "\n",
    "    return data_df"
   ]
  },
  {
   "cell_type": "code",
   "execution_count": 140,
   "id": "45badc8c",
   "metadata": {},
   "outputs": [],
   "source": [
    "def update_the_historical_data(data_df: pd.DataFrame, csv_url: str) -> pd.DataFrame:\n",
    "    \n",
    "    hist_df = pd.read_csv(csv_url, index_col = 0)\n",
    "    \n",
    "    hist_df.index = pd.to_datetime(hist_df.index)\n",
    "    hist_df = hist_df.astype(int)\n",
    "    \n",
    "    try:\n",
    "        updated_df = pd.concat([hist_df, data_df], verify_integrity=True)\n",
    "        \n",
    "        updated_df.to_csv(csv_url)\n",
    "    \n",
    "    except ValueError:\n",
    "        common_indexes = hist_df.index.intersection(data_df.index)\n",
    "        hist_df = hist_df.drop(index=common_indexes)\n",
    "        updated_df = pd.concat([hist_df, data_df], verify_integrity=True)\n",
    "        updated_df.to_csv(csv_url)\n",
    "\n",
    "    \n",
    "    return updated_df"
   ]
  },
  {
   "cell_type": "code",
   "execution_count": 141,
   "id": "ebe093db",
   "metadata": {},
   "outputs": [],
   "source": [
    "def create_followers_chart(followers_df: pd.DataFrame, \n",
    "                           logger: logging.Logger, \n",
    "                           charts_path: str,\n",
    "                           chart_name_suffix: str,\n",
    "                           days_traceback: int = 365):\n",
    "    \n",
    "    sns.set_style(\"white\", {\"grid.color\": \"#2A2A2A\"})\n",
    "\n",
    "    fig, ax = plt.subplots(figsize=(7, 2))\n",
    "\n",
    "    last_year_days_df = followers_df[followers_df.index > pd.Timestamp(date.today()) - timedelta(days=days_traceback)]\n",
    "    sns.lineplot(data=last_year_days_df, ax=ax, color='#45ad61', linewidth=4)\n",
    "\n",
    "    ax.set_ylabel(\"\", fontsize=5, color='white')\n",
    "    ax.tick_params(axis='x', labelbottom=False)\n",
    "    ax.tick_params(axis='y', labelleft=False)\n",
    "    ax.legend().remove()\n",
    "\n",
    "    ax.grid(color='#808080', axis='y', linestyle='-', linewidth=0.5)\n",
    "\n",
    "    sns.despine()\n",
    "\n",
    "    plt.tight_layout()\n",
    "    name = \"_\".join(last_year_days_df.name.split())\n",
    "    \n",
    "    logger.info(f'Saving {name} follower chart to file.')\n",
    "    plt.savefig(charts_path + f\"/{name}\" + chart_name_suffix)"
   ]
  },
  {
   "cell_type": "code",
   "execution_count": 142,
   "id": "50e980cf",
   "metadata": {},
   "outputs": [],
   "source": [
    "def generate_follower_report(name : str,\n",
    "                             charts_url: str,\n",
    "                             chart_name_suffix: str,\n",
    "                             covers_url: str,\n",
    "                             followers_df: pd.DataFrame,\n",
    "                             logger: logging.Logger,\n",
    "                             chart_width: int = 140, \n",
    "                             chart_height: int = 40,\n",
    "                             cover_size: int = 30,\n",
    "                             margin: int = 20,\n",
    "                             horizontal_margin: int = 60,\n",
    "                             title_margin: int = 5,\n",
    "                             outline_margin: int = 3,\n",
    "                             main_font_size: int = 10,\n",
    "                             secondary_font_size = 9,\n",
    "                             columns: int = 3, \n",
    "                             page_height: float = A4[1]) -> canvas.Canvas:\n",
    "    \n",
    "    x, y = margin, page_height - chart_height\n",
    "    c = canvas.Canvas(name, pagesize=A4)\n",
    "    \n",
    "    # Report title\n",
    "    title = date.today().strftime(\"%d.%m.%Y\") + \" PulseBeats playlists followers report\"\n",
    "    c.setFont(\"Helvetica-Bold\", main_font_size * 2)\n",
    "    c.drawString(x, \n",
    "                 y, \n",
    "                 title)\n",
    "    \n",
    "    y -= chart_height\n",
    "\n",
    "    for i, playlist_name in enumerate(followers_df.columns):\n",
    "        chart_path = f'{charts_url}/{playlist_name}' + chart_name_suffix\n",
    "        cover_path = f'{covers_url}/{playlist_name}.png'\n",
    "        current_followers = followers_df[playlist_name].iloc[-1]\n",
    "        a_week_ago_delta = current_followers - followers_df[playlist_name].iloc[-8]\n",
    "        a_month_ago_delta = current_followers - followers_df[playlist_name].iloc[-31]\n",
    "\n",
    "        try:\n",
    "            # playlist cover\n",
    "            c.drawImage(cover_path, \n",
    "                        x, \n",
    "                        y - cover_size, \n",
    "                        width=cover_size, \n",
    "                        height=cover_size)\n",
    "\n",
    "            # playlist title\n",
    "            display_name = \" \".join((playlist_name.split('.')[0]).split(\"_\"))\n",
    "            if len(display_name) > 20:\n",
    "                display_name = display_name[:20] + \"...\"\n",
    "                \n",
    "            c.setFont(\"Helvetica-Bold\", main_font_size)\n",
    "            c.drawString(x + cover_size + title_margin, \n",
    "                         y - main_font_size + 2, \n",
    "                         display_name)\n",
    "            \n",
    "            # current followers count\n",
    "            c.setFont(\"Helvetica-Bold\", main_font_size)\n",
    "            c.drawString(x + cover_size + title_margin, \n",
    "                         y - main_font_size * 2 - outline_margin, \n",
    "                         str(current_followers))\n",
    "            \n",
    "            # week's growth\n",
    "            c.setFont(\"Helvetica-Bold\", secondary_font_size)\n",
    "            c.drawString(x, \n",
    "                         y - cover_size - chart_height - secondary_font_size, \n",
    "                         \"In the last week: \")\n",
    "            if a_week_ago_delta > 0:\n",
    "                c.setFillColorRGB(0.27, 0.68, 0.38)\n",
    "            else:\n",
    "                c.setFillColorRGB(0.68, 0.27, 0.27)\n",
    "            display_week_value = f'+{a_week_ago_delta}' if a_week_ago_delta > 0 else f'{a_week_ago_delta}'\n",
    "            c.drawString(x + 80, \n",
    "                        y - cover_size - chart_height - secondary_font_size, \n",
    "                        display_week_value)\n",
    "            c.setFillColorRGB(0, 0, 0)\n",
    "            \n",
    "            # month's growth\n",
    "            c.setFont(\"Helvetica-Bold\", secondary_font_size)\n",
    "            c.drawString(x, \n",
    "                         y - cover_size - chart_height - secondary_font_size * 2 - outline_margin, \n",
    "                         \"In the last month: \")\n",
    "            if a_month_ago_delta > 0:\n",
    "                c.setFillColorRGB(0.27, 0.68, 0.38)\n",
    "            else:\n",
    "                c.setFillColorRGB(0.68, 0.27, 0.27)\n",
    "            display_month_value = f'+{a_month_ago_delta}' if a_month_ago_delta > 0 else f'{a_month_ago_delta}'\n",
    "            c.drawString(x + 80, \n",
    "                        y - cover_size - chart_height - secondary_font_size * 2 - outline_margin, \n",
    "                        display_month_value)\n",
    "            c.setFillColorRGB(0, 0, 0)\n",
    "\n",
    "            # line plot image\n",
    "            c.drawImage(chart_path, \n",
    "                        x - outline_margin, \n",
    "                        y - cover_size - chart_height, \n",
    "                        width=chart_width, \n",
    "                        height=chart_height)\n",
    "\n",
    "            # x pos update\n",
    "            x += chart_width + horizontal_margin\n",
    "            if (i + 1) % columns == 0:\n",
    "                x = margin  # reset x\n",
    "                y -= 130  # new line\n",
    "\n",
    "                # new page if theres no space\n",
    "                if y < margin + cover_size:\n",
    "                    c.showPage()\n",
    "                    y = page_height - cover_size - chart_height - 2 * margin\n",
    "                    \n",
    "        except Exception as e:\n",
    "            logger.error(f\"Error while generating the followers report: {e}\")\n",
    "\n",
    "    return c"
   ]
  },
  {
   "cell_type": "code",
   "execution_count": 143,
   "id": "560d4c76",
   "metadata": {},
   "outputs": [],
   "source": [
    "def replace_the_report(report: canvas.Canvas, \n",
    "                       report_path: str,\n",
    "                       logger: logging.Logger):\n",
    "    \n",
    "    reports = os.listdir(report_path)\n",
    "    \n",
    "    if len(reports) > 0:\n",
    "        for file in reports:\n",
    "            logger.info(f\"Removing {file} from local data folder.\")\n",
    "            os.remove(os.path.join(report_path, file))\n",
    "        \n",
    "    logger.info(\"Saving new report locally.\")\n",
    "    report.save()"
   ]
  },
  {
   "cell_type": "code",
   "execution_count": 144,
   "id": "6f157a5b",
   "metadata": {},
   "outputs": [],
   "source": [
    "def push_report_to_mega(report_name: str,\n",
    "                        logger: logging.Logger):\n",
    "    \n",
    "    try:\n",
    "        #saving to MEGA\n",
    "        logger.info(\"Authorizing MEGA.\")\n",
    "        load_dotenv()\n",
    "        mega_login = os.getenv(\"MEGA_LOGIN\")\n",
    "        mega_password = os.getenv(\"MEGA_PASSWORD\")\n",
    "        \n",
    "        subprocess.run(f'mega-login \"{mega_login}\" \"{mega_password}\"', shell=True, check=True)\n",
    "        \n",
    "        logger.info(\"Pushing new report to MEGA.\")\n",
    "        subprocess.run(f\"mega-put {report_name} /playlists_reports\", shell=True, check=True)\n",
    "        \n",
    "        logger.info(\"Logging out of MEGA.\")\n",
    "        subprocess.run(f'mega-logout', shell=True, check=True)\n",
    "        \n",
    "    except subprocess.CalledProcessError as e:\n",
    "        logger.error(f\"Error authorizing or saving report to MEGA: {e}\")"
   ]
  },
  {
   "cell_type": "code",
   "execution_count": 145,
   "id": "43226192",
   "metadata": {},
   "outputs": [],
   "source": [
    "async def send_telegram_notif(bot, chat_id, report_name, logger ):\n",
    "    await send_daily_follower_report(bot, \n",
    "                               chat_id, \n",
    "                               report_name, \n",
    "                               logger)"
   ]
  },
  {
   "cell_type": "markdown",
   "id": "51076f81",
   "metadata": {},
   "source": [
    "### 2. Envinroment variables"
   ]
  },
  {
   "cell_type": "code",
   "execution_count": null,
   "id": "d1311a66",
   "metadata": {},
   "outputs": [],
   "source": [
    "date_today = date.today().strftime(\"%d_%m_%Y\")\n",
    "\n",
    "is_friday = date.isoweekday(date.today()) == 5\n",
    "\n",
    "data_folder_path = \"src/\"\n",
    "\n",
    "csv_url = data_folder_path + \"data/follower_count.csv\"\n",
    "report_path = data_folder_path + \"data/reports\"\n",
    "report_name = report_path + f\"/follower_report_{date_today}.pdf\"\n",
    "charts_url = data_folder_path + \"data/assets/charts\"\n",
    "chart_name_suffix = \"_last_year_chart.png\"\n",
    "covers_url = data_folder_path + \"data/assets/covers\""
   ]
  },
  {
   "cell_type": "markdown",
   "id": "e362b2ab",
   "metadata": {},
   "source": [
    "### 3. Run the code"
   ]
  },
  {
   "cell_type": "code",
   "execution_count": 147,
   "id": "463b4fab",
   "metadata": {},
   "outputs": [
    {
     "name": "stderr",
     "output_type": "stream",
     "text": [
      "2025-06-21 13:30:23 | INFO | followers_reporting.py | Starting job initialization.\n",
      "\n"
     ]
    }
   ],
   "source": [
    "logger = setup_logger(\"followers_reporting.py\")\n",
    "logger.info('Starting job initialization.')"
   ]
  },
  {
   "cell_type": "code",
   "execution_count": null,
   "id": "c5d5bec4",
   "metadata": {},
   "outputs": [
    {
     "name": "stderr",
     "output_type": "stream",
     "text": [
      "2025-06-21 13:30:23 | INFO | followers_reporting.py | Authorizing spotify access.\n",
      "\n",
      "2025-06-21 13:30:24 | ERROR | followers_reporting.py | NO REFRESH TOKEN RETURNED\n",
      "\n",
      "2025-06-21 13:30:24 | INFO | followers_reporting.py | Authorizing and initializing telegram bot.\n",
      "\n",
      "2025-06-21 13:30:24 | INFO | followers_reporting.py | Getting followers data from Spotify.\n",
      "\n",
      "2025-06-21 13:30:24 | INFO | followers_reporting.py | Extracting DAILY_TOP_50 info.\n",
      "\n",
      "2025-06-21 13:30:24 | INFO | followers_reporting.py | Extracting DAILY_TOP_50 cover image.\n",
      "\n",
      "2025-06-21 13:30:25 | INFO | followers_reporting.py | Extracting DAILY_TOP_100 info.\n",
      "\n",
      "2025-06-21 13:30:25 | INFO | followers_reporting.py | Extracting DAILY_TOP_100 cover image.\n",
      "\n",
      "2025-06-21 13:30:25 | INFO | followers_reporting.py | Extracting DAILY_TOP_200 info.\n",
      "\n",
      "2025-06-21 13:30:26 | INFO | followers_reporting.py | Extracting DAILY_TOP_200 cover image.\n",
      "\n",
      "2025-06-21 13:30:26 | INFO | followers_reporting.py | Extracting Techno_French_2025 info.\n",
      "\n",
      "2025-06-21 13:30:26 | INFO | followers_reporting.py | Extracting Techno_French_2025 cover image.\n",
      "\n",
      "2025-06-21 13:30:27 | INFO | followers_reporting.py | Extracting Edm info.\n",
      "\n",
      "2025-06-21 13:30:27 | INFO | followers_reporting.py | Extracting Edm cover image.\n",
      "\n",
      "2025-06-21 13:30:27 | INFO | followers_reporting.py | Extracting Europop_summer_dancefloor_🪩 info.\n",
      "\n",
      "2025-06-21 13:30:27 | INFO | followers_reporting.py | Extracting Europop_summer_dancefloor_🪩 cover image.\n",
      "\n",
      "2025-06-21 13:30:28 | INFO | followers_reporting.py | Extracting LET_OUT_INNER_DEMONS🔥😈 info.\n",
      "\n",
      "2025-06-21 13:30:28 | INFO | followers_reporting.py | Extracting LET_OUT_INNER_DEMONS🔥😈 cover image.\n",
      "\n",
      "2025-06-21 13:30:28 | INFO | followers_reporting.py | Extracting CHILL_RAP_SONGS info.\n",
      "\n",
      "2025-06-21 13:30:29 | INFO | followers_reporting.py | Extracting CHILL_RAP_SONGS cover image.\n",
      "\n",
      "2025-06-21 13:30:29 | INFO | followers_reporting.py | Extracting HOT_RAP_HITS🔥🎧 info.\n",
      "\n",
      "2025-06-21 13:30:30 | INFO | followers_reporting.py | Extracting HOT_RAP_HITS🔥🎧 cover image.\n",
      "\n",
      "2025-06-21 13:30:30 | INFO | followers_reporting.py | Extracting Hardcore_Workout_Motivation💪🏼 info.\n",
      "\n",
      "2025-06-21 13:30:30 | INFO | followers_reporting.py | Extracting Hardcore_Workout_Motivation💪🏼 cover image.\n",
      "\n",
      "2025-06-21 13:30:30 | INFO | followers_reporting.py | Extracting Sad_music_to_listen_to_when_you're_feelin_down info.\n",
      "\n",
      "2025-06-21 13:30:31 | INFO | followers_reporting.py | Extracting Sad_music_to_listen_to_when_you're_feelin_down cover image.\n",
      "\n",
      "2025-06-21 13:30:31 | INFO | followers_reporting.py | Updating local followers data.\n",
      "\n",
      "2025-06-21 13:30:31 | INFO | followers_reporting.py | Creating follower charts.\n",
      "\n",
      "C:\\Users\\damia\\AppData\\Local\\Temp\\ipykernel_18404\\1973931239.py:17: UserWarning: No artists with labels found to put in legend.  Note that artists whose label start with an underscore are ignored when legend() is called with no argument.\n",
      "  ax.legend().remove()\n",
      "2025-06-21 13:30:31 | INFO | followers_reporting.py | Saving DAILY_TOP_50 follower chart to file.\n",
      "\n",
      "C:\\Users\\damia\\AppData\\Local\\Temp\\ipykernel_18404\\1973931239.py:17: UserWarning: No artists with labels found to put in legend.  Note that artists whose label start with an underscore are ignored when legend() is called with no argument.\n",
      "  ax.legend().remove()\n",
      "2025-06-21 13:30:31 | INFO | followers_reporting.py | Saving DAILY_TOP_100 follower chart to file.\n",
      "\n",
      "C:\\Users\\damia\\AppData\\Local\\Temp\\ipykernel_18404\\1973931239.py:17: UserWarning: No artists with labels found to put in legend.  Note that artists whose label start with an underscore are ignored when legend() is called with no argument.\n",
      "  ax.legend().remove()\n",
      "2025-06-21 13:30:31 | INFO | followers_reporting.py | Saving DAILY_TOP_200 follower chart to file.\n",
      "\n",
      "C:\\Users\\damia\\AppData\\Local\\Temp\\ipykernel_18404\\1973931239.py:17: UserWarning: No artists with labels found to put in legend.  Note that artists whose label start with an underscore are ignored when legend() is called with no argument.\n",
      "  ax.legend().remove()\n",
      "2025-06-21 13:30:31 | INFO | followers_reporting.py | Saving Techno_French_2025 follower chart to file.\n",
      "\n",
      "C:\\Users\\damia\\AppData\\Local\\Temp\\ipykernel_18404\\1973931239.py:17: UserWarning: No artists with labels found to put in legend.  Note that artists whose label start with an underscore are ignored when legend() is called with no argument.\n",
      "  ax.legend().remove()\n",
      "2025-06-21 13:30:31 | INFO | followers_reporting.py | Saving Europop_summer_dancefloor_🪩 follower chart to file.\n",
      "\n",
      "C:\\Users\\damia\\AppData\\Local\\Temp\\ipykernel_18404\\1973931239.py:17: UserWarning: No artists with labels found to put in legend.  Note that artists whose label start with an underscore are ignored when legend() is called with no argument.\n",
      "  ax.legend().remove()\n",
      "2025-06-21 13:30:31 | INFO | followers_reporting.py | Saving LET_OUT_INNER_DEMONS🔥😈 follower chart to file.\n",
      "\n",
      "C:\\Users\\damia\\AppData\\Local\\Temp\\ipykernel_18404\\1973931239.py:17: UserWarning: No artists with labels found to put in legend.  Note that artists whose label start with an underscore are ignored when legend() is called with no argument.\n",
      "  ax.legend().remove()\n",
      "2025-06-21 13:30:31 | INFO | followers_reporting.py | Saving CHILL_RAP_SONGS follower chart to file.\n",
      "\n",
      "C:\\Users\\damia\\AppData\\Local\\Temp\\ipykernel_18404\\1973931239.py:17: UserWarning: No artists with labels found to put in legend.  Note that artists whose label start with an underscore are ignored when legend() is called with no argument.\n",
      "  ax.legend().remove()\n",
      "2025-06-21 13:30:32 | INFO | followers_reporting.py | Saving HOT_RAP_HITS🔥🎧 follower chart to file.\n",
      "\n",
      "C:\\Users\\damia\\AppData\\Local\\Temp\\ipykernel_18404\\1973931239.py:17: UserWarning: No artists with labels found to put in legend.  Note that artists whose label start with an underscore are ignored when legend() is called with no argument.\n",
      "  ax.legend().remove()\n",
      "2025-06-21 13:30:32 | INFO | followers_reporting.py | Saving Hardcore_Workout_Motivation💪🏼 follower chart to file.\n",
      "\n",
      "C:\\Users\\damia\\AppData\\Local\\Temp\\ipykernel_18404\\1973931239.py:17: UserWarning: No artists with labels found to put in legend.  Note that artists whose label start with an underscore are ignored when legend() is called with no argument.\n",
      "  ax.legend().remove()\n",
      "2025-06-21 13:30:32 | INFO | followers_reporting.py | Saving Sad_music_to_listen_to_when_you're_feelin_down follower chart to file.\n",
      "\n",
      "C:\\Users\\damia\\AppData\\Local\\Temp\\ipykernel_18404\\1973931239.py:17: UserWarning: No artists with labels found to put in legend.  Note that artists whose label start with an underscore are ignored when legend() is called with no argument.\n",
      "  ax.legend().remove()\n",
      "2025-06-21 13:30:32 | INFO | followers_reporting.py | Saving Edm follower chart to file.\n",
      "\n",
      "2025-06-21 13:30:32 | INFO | followers_reporting.py | Generating follower report.\n",
      "\n",
      "2025-06-21 13:30:33 | INFO | followers_reporting.py | Replacing the report locally.\n",
      "\n",
      "2025-06-21 13:30:33 | INFO | followers_reporting.py | Removing follower_report_21_06_2025.pdf from local data folder.\n",
      "\n",
      "2025-06-21 13:30:33 | INFO | followers_reporting.py | Saving new report locally.\n",
      "\n",
      "2025-06-21 13:30:33 | INFO | followers_reporting.py | is_friday = True, saving the report on MEGA.\n",
      "\n",
      "2025-06-21 13:30:33 | INFO | followers_reporting.py | Authorizing MEGA.\n",
      "\n",
      "2025-06-21 13:30:35 | ERROR | followers_reporting.py | Error authorizing or saving report to MEGA: Command 'mega-login \"damiankarwat04@gmail.com\" \"TjY3S63dt&4rsO9m\"' returned non-zero exit status 9.\n",
      "\n",
      "2025-06-21 13:30:35 | INFO | followers_reporting.py | HTTP Request: POST https://api.telegram.org/bot7984471403:AAFxB6kUbmXhvdggyPgBOn0NeKQ8xIsigCc/sendMessage \"HTTP/1.1 200 OK\"\n",
      "\n",
      "2025-06-21 13:30:35 | INFO | followers_reporting.py | Message sent\n",
      "\n",
      "2025-06-21 13:30:35 | INFO | followers_reporting.py | Sending the report to Telegram.\n",
      "\n",
      "2025-06-21 13:30:45 | INFO | followers_reporting.py | HTTP Request: POST https://api.telegram.org/bot7984471403:AAFxB6kUbmXhvdggyPgBOn0NeKQ8xIsigCc/sendDocument \"HTTP/1.1 200 OK\"\n",
      "\n",
      "2025-06-21 13:30:45 | INFO | followers_reporting.py | report sent\n",
      "\n",
      "2025-06-21 13:30:45 | INFO | followers_reporting.py | Job finished.\n",
      "\n"
     ]
    },
    {
     "data": {
      "image/png": "[encoded data removed]",
      "text/plain": [
       "<Figure size 700x200 with 1 Axes>"
      ]
     },
     "metadata": {},
     "output_type": "display_data"
    },
    {
     "data": {
      "image/png": "[encoded data removed]",
      "text/plain": [
       "<Figure size 700x200 with 1 Axes>"
      ]
     },
     "metadata": {},
     "output_type": "display_data"
    },
    {
     "data": {
      "image/png": "[encoded data removed]",
      "text/plain": [
       "<Figure size 700x200 with 1 Axes>"
      ]
     },
     "metadata": {},
     "output_type": "display_data"
    },
    {
     "data": {
      "image/png": "[encoded data removed]",
      "text/plain": [
       "<Figure size 700x200 with 1 Axes>"
      ]
     },
     "metadata": {},
     "output_type": "display_data"
    },
    {
     "data": {
      "image/png": "[encoded data removed]",
      "text/plain": [
       "<Figure size 700x200 with 1 Axes>"
      ]
     },
     "metadata": {},
     "output_type": "display_data"
    },
    {
     "data": {
      "image/png": "[encoded data removed]",
      "text/plain": [
       "<Figure size 700x200 with 1 Axes>"
      ]
     },
     "metadata": {},
     "output_type": "display_data"
    },
    {
     "data": {
      "image/png": "[encoded data removed]",
      "text/plain": [
       "<Figure size 700x200 with 1 Axes>"
      ]
     },
     "metadata": {},
     "output_type": "display_data"
    },
    {
     "data": {
      "image/png": "[encoded data removed]",
      "text/plain": [
       "<Figure size 700x200 with 1 Axes>"
      ]
     },
     "metadata": {},
     "output_type": "display_data"
    },
    {
     "data": {
      "image/png": "[encoded data removed]",
      "text/plain": [
       "<Figure size 700x200 with 1 Axes>"
      ]
     },
     "metadata": {},
     "output_type": "display_data"
    },
    {
     "data": {
      "image/png": "[encoded data removed]",
      "text/plain": [
       "<Figure size 700x200 with 1 Axes>"
      ]
     },
     "metadata": {},
     "output_type": "display_data"
    },
    {
     "data": {
      "image/png": "[encoded data removed]",
      "text/plain": [
       "<Figure size 700x200 with 1 Axes>"
      ]
     },
     "metadata": {},
     "output_type": "display_data"
    }
   ],
   "source": [
    "try:\n",
    "    logger.info('Authorizing spotify access.')\n",
    "    sp = execute_spotify_auth(logger)\n",
    "    \n",
    "    logger.info('Authorizing and initializing telegram bot.')\n",
    "    bot, chat_id = init_telegram_bot()\n",
    "    \n",
    "    logger.info('Getting followers data from Spotify.')\n",
    "    df = get_playlists_data(sp, covers_url, logger)\n",
    "    \n",
    "    logger.info('Updating local followers data.')\n",
    "    updated_df = update_the_historical_data(df, csv_url)\n",
    "    \n",
    "    logger.info('Creating follower charts.')\n",
    "    for col in updated_df.columns:\n",
    "        create_followers_chart(updated_df[col], logger, charts_url, chart_name_suffix)\n",
    "    \n",
    "    logger.info('Generating follower report.')\n",
    "    report = generate_follower_report(name=report_name, \n",
    "                                      charts_url=charts_url, \n",
    "                                      chart_name_suffix=chart_name_suffix,\n",
    "                                      covers_url=covers_url,\n",
    "                                      followers_df=updated_df,\n",
    "                                      logger=logger)\n",
    "    \n",
    "    logger.info('Replacing the report locally.')\n",
    "    replace_the_report(report, report_path, logger)\n",
    "    \n",
    "    if is_friday:\n",
    "        logger.info(f'is_friday = {is_friday}, saving the report on MEGA.')\n",
    "        push_report_to_mega(report_name, logger)\n",
    "        asyncio.run(send_telegram_message(bot, chat_id, \"Report pushed to MEGA.\", logger))   \n",
    "    else:\n",
    "        logger.info('Sending the report to Telegram.')\n",
    "        asyncio.run(send_telegram_notif(bot, chat_id, report_name, logger))\n",
    "        \n",
    "    logger.info('Job finished.')\n",
    "\n",
    "except Exception as e:\n",
    "    logger.error(f'Playlist followers reports pipeline fail: {e}')"
   ]
  }
 ],
 "metadata": {
  "kernelspec": {
   "display_name": "SpotifyPlaylistMaker",
   "language": "python",
   "name": "python3"
  },
  "language_info": {
   "codemirror_mode": {
    "name": "ipython",
    "version": 3
   },
   "file_extension": ".py",
   "mimetype": "text/x-python",
   "name": "python",
   "nbconvert_exporter": "python",
   "pygments_lexer": "ipython3",
   "version": "3.12.8"
  }
 },
 "nbformat": 4,
 "nbformat_minor": 5
}
