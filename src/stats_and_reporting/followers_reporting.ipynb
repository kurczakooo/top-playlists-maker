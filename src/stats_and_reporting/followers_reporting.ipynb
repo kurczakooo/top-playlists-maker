{
 "cells": [
  {
   "cell_type": "markdown",
   "id": "23931a46",
   "metadata": {},
   "source": [
    "# Daily run script to generate playlists followers reports"
   ]
  },
  {
   "cell_type": "markdown",
   "id": "3e690aab",
   "metadata": {},
   "source": [
    "### 0. Import libraries"
   ]
  },
  {
   "cell_type": "code",
   "execution_count": 3,
   "id": "a9d9d26b",
   "metadata": {},
   "outputs": [],
   "source": [
    "import sys\n",
    "sys.path.append(\"../../\")\n",
    "\n",
    "from src.common.spotify_auth import sp\n",
    "from src.common.config import setup_logger\n"
   ]
  },
  {
   "cell_type": "markdown",
   "id": "db166607",
   "metadata": {},
   "source": [
    "### 1. Custom functions"
   ]
  },
  {
   "cell_type": "code",
   "execution_count": null,
   "id": "fcf383fc",
   "metadata": {},
   "outputs": [],
   "source": []
  },
  {
   "cell_type": "markdown",
   "id": "51076f81",
   "metadata": {},
   "source": [
    "### 2. Envinroment variables"
   ]
  },
  {
   "cell_type": "code",
   "execution_count": null,
   "id": "7c2a92e8",
   "metadata": {},
   "outputs": [],
   "source": []
  },
  {
   "cell_type": "markdown",
   "id": "e362b2ab",
   "metadata": {},
   "source": [
    "### 3. Run the code"
   ]
  },
  {
   "cell_type": "code",
   "execution_count": null,
   "id": "463b4fab",
   "metadata": {},
   "outputs": [],
   "source": [
    "logger = setup_logger(\"followers_reporting.py\")\n",
    "logger.info('Starting job initialization.')"
   ]
  }
 ],
 "metadata": {
  "kernelspec": {
   "display_name": "SpotifyPlaylistMaker",
   "language": "python",
   "name": "python3"
  },
  "language_info": {
   "codemirror_mode": {
    "name": "ipython",
    "version": 3
   },
   "file_extension": ".py",
   "mimetype": "text/x-python",
   "name": "python",
   "nbconvert_exporter": "python",
   "pygments_lexer": "ipython3",
   "version": "3.12.8"
  }
 },
 "nbformat": 4,
 "nbformat_minor": 5
}
