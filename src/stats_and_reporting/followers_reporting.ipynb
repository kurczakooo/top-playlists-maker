{
 "cells": [
  {
   "cell_type": "markdown",
   "id": "23931a46",
   "metadata": {},
   "source": [
    "# Daily run script to generate playlists followers reports"
   ]
  },
  {
   "cell_type": "markdown",
   "id": "3e690aab",
   "metadata": {},
   "source": [
    "### 0. Import libraries"
   ]
  },
  {
   "cell_type": "code",
   "execution_count": 291,
   "id": "a9d9d26b",
   "metadata": {},
   "outputs": [],
   "source": [
    "import sys\n",
    "sys.path.append(\"../../\")\n",
    "\n",
    "from src.common.spotify_auth import sp\n",
    "from src.common.config import setup_logger\n",
    "\n",
    "from spotipy import Spotify\n",
    "import pandas as pd\n",
    "from datetime import date\n",
    "import matplotlib.pyplot as plt\n",
    "import seaborn as sns"
   ]
  },
  {
   "cell_type": "markdown",
   "id": "db166607",
   "metadata": {},
   "source": [
    "### 1. Custom functions"
   ]
  },
  {
   "cell_type": "code",
   "execution_count": 292,
   "id": "fcf383fc",
   "metadata": {},
   "outputs": [],
   "source": [
    "def get_follower_data(sp: Spotify) -> pd.DataFrame:\n",
    "    playlists = sp.current_user_playlists()\n",
    "    data = {}\n",
    "\n",
    "    for playlist in playlists['items']:\n",
    "        name = playlist['name']\n",
    "        playlist_id = playlist['id']\n",
    "        \n",
    "        # Pobranie pełnych danych o playliście, aby uzyskać liczbę followersów\n",
    "        playlist_details = sp.playlist(playlist_id)\n",
    "        followers = playlist_details['followers']['total']\n",
    "        \n",
    "        data.update({name : followers})\n",
    "      \n",
    "    data_df = pd.DataFrame(data = [data])\n",
    "    data_df.index = [date.today().strftime(\"%Y-%m-%d\")]\n",
    "\n",
    "    return data_df"
   ]
  },
  {
   "cell_type": "code",
   "execution_count": 293,
   "id": "45badc8c",
   "metadata": {},
   "outputs": [],
   "source": [
    "def update_the_historical_data(data_df: pd.DataFrame, csv_url: str = \"../data/follower_count.csv\") -> pd.DataFrame:\n",
    "    \n",
    "    hist_df = pd.read_csv(csv_url, index_col = 0)\n",
    "    \n",
    "    hist_df.index = pd.to_datetime(hist_df.index).strftime(\"%Y-%m-%d\")\n",
    "    \n",
    "    try:\n",
    "        updated_df = pd.concat([hist_df, data_df], verify_integrity=True)\n",
    "        \n",
    "        updated_df.to_csv(csv_url)\n",
    "    \n",
    "    except ValueError:\n",
    "        common_indexes = hist_df.index.intersection(data_df.index)\n",
    "        hist_df = hist_df.drop(index=common_indexes)\n",
    "        updated_df = pd.concat([hist_df, data_df], verify_integrity=True)\n",
    "        updated_df.to_csv(csv_url)\n",
    "\n",
    "    \n",
    "    return updated_df"
   ]
  },
  {
   "cell_type": "code",
   "execution_count": 294,
   "id": "ebe093db",
   "metadata": {},
   "outputs": [],
   "source": [
    "def create_followers_report(followers_df: pd.DataFrame):\n",
    "    sns.set_style(\"dark\", {\"grid.color\": \"#2A2A2A\"})  # Drobna, ciemnoszara siatka\n",
    "    plt.style.use('dark_background')\n",
    "    sns.set_palette(\"viridis\")\n",
    "\n",
    "    # Tworzenie wykresu\n",
    "    fig, ax = plt.subplots(figsize=(5, 3))\n",
    "\n",
    "    # Linia w stylu minimalistycznym\n",
    "    sns.lineplot(data=followers_df['HOT RAP HITS🔥🎧'], ax=ax, color='#7CFC00', linewidth=2)\n",
    "\n",
    "    # Dostosowanie osi i wyglądu\n",
    "    ax.set_ylabel(\"\", fontsize=5, color='white')\n",
    "    ax.tick_params(axis='x', rotation=45, labelcolor='white')\n",
    "    ax.tick_params(axis='y', labelcolor='white')\n",
    "\n",
    "    # Drobne siatki w tle\n",
    "    ax.grid(color='#2A2A2A', linestyle='-', linewidth=0.5)\n",
    "\n",
    "    # Usunięcie nadmiarowych ramek\n",
    "    sns.despine(left=True, bottom=True)\n",
    "\n",
    "    # Zapis do pliku PNG\n",
    "    plt.tight_layout()\n",
    "    plt.show()"
   ]
  },
  {
   "cell_type": "markdown",
   "id": "51076f81",
   "metadata": {},
   "source": [
    "### 2. Envinroment variables"
   ]
  },
  {
   "cell_type": "code",
   "execution_count": 295,
   "id": "f345e62c",
   "metadata": {},
   "outputs": [],
   "source": [
    "sp = Spotify(auth = \"BQCprZrBMz9NJD6nNo_m8gaNcm6a0F_Ku3Prb4YHwNYFxkSotsBLWF7Ix-y6j2PDkkAwljHBMklToWPopPnQVVhCCGbhDeZ88Az9-AoWgqrUyBM1q0MhtuvkEoOVu6GC5ur4ptklQOIUgRnFWi9gtLildB88um7STAaIxoVQoVP1-IgeBJIggOakrU1nG8Mwu1lhyNqAf9hx8y44f6WtGuKQPHDhZPdHAYfWrNL89ajLXPvgCNPNqD9k-cbEgh-jGfC2SfsBBDSBl9aNH-uA_aq0d42NPTb0q9fGB79Vg2ccaq1zIdkugxkTwYUAofBmacW0mt4\")"
   ]
  },
  {
   "cell_type": "code",
   "execution_count": 296,
   "id": "7c2a92e8",
   "metadata": {},
   "outputs": [],
   "source": [
    "df = get_follower_data(sp)\n"
   ]
  },
  {
   "cell_type": "code",
   "execution_count": 302,
   "id": "0d08806a",
   "metadata": {},
   "outputs": [],
   "source": [
    "updated_df = update_the_historical_data(df)"
   ]
  },
  {
   "cell_type": "code",
   "execution_count": 298,
   "id": "481d62dc",
   "metadata": {},
   "outputs": [
    {
     "data": {
      "text/html": [
       "<div>\n",
       "<style scoped>\n",
       "    .dataframe tbody tr th:only-of-type {\n",
       "        vertical-align: middle;\n",
       "    }\n",
       "\n",
       "    .dataframe tbody tr th {\n",
       "        vertical-align: top;\n",
       "    }\n",
       "\n",
       "    .dataframe thead th {\n",
       "        text-align: right;\n",
       "    }\n",
       "</style>\n",
       "<table border=\"1\" class=\"dataframe\">\n",
       "  <thead>\n",
       "    <tr style=\"text-align: right;\">\n",
       "      <th></th>\n",
       "      <th>DAILY TOP 50</th>\n",
       "      <th>DAILY TOP 100</th>\n",
       "      <th>DAILY TOP 200</th>\n",
       "      <th>Techno French 2025</th>\n",
       "      <th>Edm</th>\n",
       "      <th>Europop summer dancefloor 🪩</th>\n",
       "      <th>LET OUT INNER DEMONS🔥😈</th>\n",
       "      <th>CHILL RAP SONGS</th>\n",
       "      <th>HOT RAP HITS🔥🎧</th>\n",
       "      <th>Hardcore Workout Motivation💪🏼</th>\n",
       "      <th>Sad music to listen to when you're feelin down</th>\n",
       "    </tr>\n",
       "  </thead>\n",
       "  <tbody>\n",
       "    <tr>\n",
       "      <th>2025-05-03</th>\n",
       "      <td>0</td>\n",
       "      <td>0</td>\n",
       "      <td>4</td>\n",
       "      <td>1</td>\n",
       "      <td>0</td>\n",
       "      <td>15</td>\n",
       "      <td>764</td>\n",
       "      <td>4678</td>\n",
       "      <td>40</td>\n",
       "      <td>9</td>\n",
       "      <td>1603</td>\n",
       "    </tr>\n",
       "    <tr>\n",
       "      <th>2025-05-06</th>\n",
       "      <td>0</td>\n",
       "      <td>0</td>\n",
       "      <td>4</td>\n",
       "      <td>1</td>\n",
       "      <td>0</td>\n",
       "      <td>15</td>\n",
       "      <td>767</td>\n",
       "      <td>4698</td>\n",
       "      <td>40</td>\n",
       "      <td>9</td>\n",
       "      <td>1603</td>\n",
       "    </tr>\n",
       "    <tr>\n",
       "      <th>2025-05-08</th>\n",
       "      <td>0</td>\n",
       "      <td>0</td>\n",
       "      <td>4</td>\n",
       "      <td>2</td>\n",
       "      <td>0</td>\n",
       "      <td>15</td>\n",
       "      <td>761</td>\n",
       "      <td>4720</td>\n",
       "      <td>40</td>\n",
       "      <td>9</td>\n",
       "      <td>1603</td>\n",
       "    </tr>\n",
       "    <tr>\n",
       "      <th>2025-05-09</th>\n",
       "      <td>0</td>\n",
       "      <td>0</td>\n",
       "      <td>5</td>\n",
       "      <td>1</td>\n",
       "      <td>0</td>\n",
       "      <td>15</td>\n",
       "      <td>768</td>\n",
       "      <td>4710</td>\n",
       "      <td>40</td>\n",
       "      <td>9</td>\n",
       "      <td>1603</td>\n",
       "    </tr>\n",
       "    <tr>\n",
       "      <th>2025-05-10</th>\n",
       "      <td>0</td>\n",
       "      <td>0</td>\n",
       "      <td>4</td>\n",
       "      <td>1</td>\n",
       "      <td>0</td>\n",
       "      <td>15</td>\n",
       "      <td>745</td>\n",
       "      <td>4709</td>\n",
       "      <td>41</td>\n",
       "      <td>9</td>\n",
       "      <td>1603</td>\n",
       "    </tr>\n",
       "    <tr>\n",
       "      <th>2025-05-11</th>\n",
       "      <td>0</td>\n",
       "      <td>0</td>\n",
       "      <td>4</td>\n",
       "      <td>1</td>\n",
       "      <td>0</td>\n",
       "      <td>15</td>\n",
       "      <td>743</td>\n",
       "      <td>4702</td>\n",
       "      <td>40</td>\n",
       "      <td>9</td>\n",
       "      <td>1603</td>\n",
       "    </tr>\n",
       "    <tr>\n",
       "      <th>2025-05-12</th>\n",
       "      <td>0</td>\n",
       "      <td>0</td>\n",
       "      <td>4</td>\n",
       "      <td>1</td>\n",
       "      <td>0</td>\n",
       "      <td>15</td>\n",
       "      <td>76</td>\n",
       "      <td>4710</td>\n",
       "      <td>46</td>\n",
       "      <td>9</td>\n",
       "      <td>1603</td>\n",
       "    </tr>\n",
       "    <tr>\n",
       "      <th>2025-05-14</th>\n",
       "      <td>0</td>\n",
       "      <td>0</td>\n",
       "      <td>4</td>\n",
       "      <td>1</td>\n",
       "      <td>0</td>\n",
       "      <td>15</td>\n",
       "      <td>759</td>\n",
       "      <td>4709</td>\n",
       "      <td>40</td>\n",
       "      <td>9</td>\n",
       "      <td>1603</td>\n",
       "    </tr>\n",
       "  </tbody>\n",
       "</table>\n",
       "</div>"
      ],
      "text/plain": [
       "            DAILY TOP 50  DAILY TOP 100  DAILY TOP 200  Techno French 2025  \\\n",
       "2025-05-03             0              0              4                   1   \n",
       "2025-05-06             0              0              4                   1   \n",
       "2025-05-08             0              0              4                   2   \n",
       "2025-05-09             0              0              5                   1   \n",
       "2025-05-10             0              0              4                   1   \n",
       "2025-05-11             0              0              4                   1   \n",
       "2025-05-12             0              0              4                   1   \n",
       "2025-05-14             0              0              4                   1   \n",
       "\n",
       "            Edm  Europop summer dancefloor 🪩  LET OUT INNER DEMONS🔥😈  \\\n",
       "2025-05-03    0                           15                     764   \n",
       "2025-05-06    0                           15                     767   \n",
       "2025-05-08    0                           15                     761   \n",
       "2025-05-09    0                           15                     768   \n",
       "2025-05-10    0                           15                     745   \n",
       "2025-05-11    0                           15                     743   \n",
       "2025-05-12    0                           15                      76   \n",
       "2025-05-14    0                           15                     759   \n",
       "\n",
       "            CHILL RAP SONGS  HOT RAP HITS🔥🎧  Hardcore Workout Motivation💪🏼  \\\n",
       "2025-05-03             4678              40                              9   \n",
       "2025-05-06             4698              40                              9   \n",
       "2025-05-08             4720              40                              9   \n",
       "2025-05-09             4710              40                              9   \n",
       "2025-05-10             4709              41                              9   \n",
       "2025-05-11             4702              40                              9   \n",
       "2025-05-12             4710              46                              9   \n",
       "2025-05-14             4709              40                              9   \n",
       "\n",
       "            Sad music to listen to when you're feelin down  \n",
       "2025-05-03                                            1603  \n",
       "2025-05-06                                            1603  \n",
       "2025-05-08                                            1603  \n",
       "2025-05-09                                            1603  \n",
       "2025-05-10                                            1603  \n",
       "2025-05-11                                            1603  \n",
       "2025-05-12                                            1603  \n",
       "2025-05-14                                            1603  "
      ]
     },
     "execution_count": 298,
     "metadata": {},
     "output_type": "execute_result"
    }
   ],
   "source": [
    "updated_df"
   ]
  },
  {
   "cell_type": "code",
   "execution_count": 299,
   "id": "bf8caed4",
   "metadata": {},
   "outputs": [
    {
     "name": "stderr",
     "output_type": "stream",
     "text": [
      "2025-05-14 07:25:17 | INFO | followers_reporting.py | Using categorical units to plot a list of strings that are all parsable as floats or dates. If these strings should be plotted as numbers, cast to the appropriate data type before plotting.\n",
      "\n",
      "2025-05-14 07:25:17 | INFO | followers_reporting.py | Using categorical units to plot a list of strings that are all parsable as floats or dates. If these strings should be plotted as numbers, cast to the appropriate data type before plotting.\n",
      "\n"
     ]
    },
    {
     "data": {
      "image/png": "[encoded data removed]",
      "text/plain": [
       "<Figure size 500x300 with 1 Axes>"
      ]
     },
     "metadata": {},
     "output_type": "display_data"
    }
   ],
   "source": [
    "create_followers_report(updated_df)"
   ]
  },
  {
   "cell_type": "markdown",
   "id": "e362b2ab",
   "metadata": {},
   "source": [
    "### 3. Run the code"
   ]
  },
  {
   "cell_type": "code",
   "execution_count": 300,
   "id": "463b4fab",
   "metadata": {},
   "outputs": [
    {
     "name": "stderr",
     "output_type": "stream",
     "text": [
      "2025-05-14 07:25:17 | INFO | followers_reporting.py | Starting job initialization.\n",
      "\n"
     ]
    }
   ],
   "source": [
    "logger = setup_logger(\"followers_reporting.py\")\n",
    "logger.info('Starting job initialization.')"
   ]
  }
 ],
 "metadata": {
  "kernelspec": {
   "display_name": "SpotifyPlaylistMaker",
   "language": "python",
   "name": "python3"
  },
  "language_info": {
   "codemirror_mode": {
    "name": "ipython",
    "version": 3
   },
   "file_extension": ".py",
   "mimetype": "text/x-python",
   "name": "python",
   "nbconvert_exporter": "python",
   "pygments_lexer": "ipython3",
   "version": "3.12.8"
  }
 },
 "nbformat": 4,
 "nbformat_minor": 5
}
