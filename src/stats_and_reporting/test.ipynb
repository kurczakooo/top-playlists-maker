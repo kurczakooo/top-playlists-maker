{
    "cells": [
        {
            "cell_type": "markdown",
            "id": "e7d9413f",
            "metadata": {},
            "source": [
                "#### **OBJECTIVES**\n",
                "\n",
                "The goal is to ingest traffic and behaviour data from GA4, which is integrated with the LINK-TREE for the playlists using BigQuery, and create custom reports in a form of pdfs similar to the followers reports. The idea came from the fact that GA4 standalone is not intuitive for reporting purposes, can't be as flexible as custom reports, and I don't want to be dependent on the platform. That's why all the event data from GA4 is transfered to BigQuery, and with the use of the official API it can be easily extracted and used.\n",
                "\n",
                "##### **REPORT PLAN / VISUALIZATION**\n",
                "The most important things that need to be included in the report are:\n",
                "- DAILY GRANURALITY:\n",
                "  - Overall traffic, (bar chart or line chart with last 7 days)\n",
                "  - Traffic sources distribution, (a pie chart)\n",
                "  - Playlist link button clicks distribution, (horizontal bar chart)\n",
                "  - Social link button clicks distribution, (vertival bar chart)\n",
                "  - Singular Descriptive values like:\n",
                "    - sum(playlist buttons clicks) / traffic -> CTR for playlist buttons\n",
                "    - sum(social buttons clicks) / traffic -> CTR for social buttons\n",
                "    - avg(timestamp of clicking a button - timestamp of entering the page)\n",
                "\n",
                "The rest is TDB.\n",
                "A mock report visualization made in canva is attached in the repo locally.\n",
                "\n",
                "\n",
                "##### **EVENTS CUSTOMIZED FOR REPORTING PURPOSES:**\n",
                "- ##### Playlist link button click event:\n",
                "    - event_name : 'button_click'\n",
                "    - event_category : 'playlist'\n",
                "    - event_label : playlist mapping id e.g. top_200_global\n",
                "- ##### Social link button click event:\n",
                "    - **TBD**\n",
                "\n",
                "##### **DATA NEEDED FOR THE REPORTS:**\n",
                "- Daily playlist button click events,\n",
                "- Daily social button click events,\n",
                "- Daily amount of users on the website\n",
                "- Source of the user traffic, e.g. Organic, Tiktok, Instagram\n",
                "- User level data: user time on the website, user id for users comparison, timestamp of clicking a button, timestamp of enterign the website, timestamp of leaving the website\n",
                "  "
            ]
        },
        {
            "cell_type": "code",
            "execution_count": null,
            "id": "d8c8067f",
            "metadata": {},
            "outputs": [],
            "source": [
                "from google.cloud import bigquery\n",
                "import db_dtypes\n",
                "\n",
                "import pandas as pd\n",
                "import numpy as np\n",
                "import json\n",
                "\n",
                "from dotenv import load_dotenv\n",
                "import os"
            ]
        },
        {
            "cell_type": "code",
            "execution_count": null,
            "id": "8d762b62",
            "metadata": {},
            "outputs": [],
            "source": [
                "date = \"29/07/2025\"\n",
                "\n",
                "date_transformed = \"\".join([x for x in date.split(\"/\")[::-1]])\n",
                "\n",
                "date_transformed"
            ]
        },
        {
            "cell_type": "code",
            "execution_count": null,
            "id": "91da80f3",
            "metadata": {},
            "outputs": [],
            "source": [
                "load_dotenv()\n",
                "\n",
                "big_query_credentials = os.getenv(\"BIG_QUERY_CREDENTIALS\")\n",
                "big_query_credentials = big_query_credentials.replace(\"\\\\\\n\", \"\\\\n\")"
            ]
        },
        {
            "cell_type": "code",
            "execution_count": null,
            "id": "bc3e6db2",
            "metadata": {},
            "outputs": [],
            "source": [
                "json_key = json.loads(big_query_credentials)\n"
            ]
        },
        {
            "cell_type": "code",
            "execution_count": null,
            "id": "fe23ca71",
            "metadata": {},
            "outputs": [
                {
                    "ename": "MalformedError",
                    "evalue": "No key could be detected.",
                    "output_type": "error",
                    "traceback": [
                        "\u001b[31m---------------------------------------------------------------------------\u001b[39m",
                        "\u001b[31mMalformedError\u001b[39m                            Traceback (most recent call last)",
                        "\u001b[36mCell\u001b[39m\u001b[36m \u001b[39m\u001b[32mIn[5]\u001b[39m\u001b[32m, line 2\u001b[39m\n\u001b[32m      1\u001b[39m \u001b[38;5;66;03m# client = bigquery.Client.from_service_account_json(key)\u001b[39;00m\n\u001b[32m----> \u001b[39m\u001b[32m2\u001b[39m client = \u001b[43mbigquery\u001b[49m\u001b[43m.\u001b[49m\u001b[43mClient\u001b[49m\u001b[43m.\u001b[49m\u001b[43mfrom_service_account_info\u001b[49m\u001b[43m(\u001b[49m\u001b[43mjson_key\u001b[49m\u001b[43m)\u001b[49m\n",
                        "\u001b[36mFile \u001b[39m\u001b[32mc:\\Users\\damia\\anaconda3\\envs\\SpotifyPlaylistMaker\\Lib\\site-packages\\google\\cloud\\client\\__init__.py:83\u001b[39m, in \u001b[36m_ClientFactoryMixin.from_service_account_info\u001b[39m\u001b[34m(cls, info, *args, **kwargs)\u001b[39m\n\u001b[32m     80\u001b[39m \u001b[38;5;28;01mif\u001b[39;00m \u001b[33m\"\u001b[39m\u001b[33mcredentials\u001b[39m\u001b[33m\"\u001b[39m \u001b[38;5;129;01min\u001b[39;00m kwargs:\n\u001b[32m     81\u001b[39m     \u001b[38;5;28;01mraise\u001b[39;00m \u001b[38;5;167;01mTypeError\u001b[39;00m(\u001b[33m\"\u001b[39m\u001b[33mcredentials must not be in keyword arguments\u001b[39m\u001b[33m\"\u001b[39m)\n\u001b[32m---> \u001b[39m\u001b[32m83\u001b[39m credentials = \u001b[43mservice_account\u001b[49m\u001b[43m.\u001b[49m\u001b[43mCredentials\u001b[49m\u001b[43m.\u001b[49m\u001b[43mfrom_service_account_info\u001b[49m\u001b[43m(\u001b[49m\u001b[43minfo\u001b[49m\u001b[43m)\u001b[49m\n\u001b[32m     84\u001b[39m \u001b[38;5;28;01mif\u001b[39;00m \u001b[38;5;28mcls\u001b[39m._SET_PROJECT:\n\u001b[32m     85\u001b[39m     \u001b[38;5;28;01mif\u001b[39;00m \u001b[33m\"\u001b[39m\u001b[33mproject\u001b[39m\u001b[33m\"\u001b[39m \u001b[38;5;129;01mnot\u001b[39;00m \u001b[38;5;129;01min\u001b[39;00m kwargs:\n",
                        "\u001b[36mFile \u001b[39m\u001b[32mc:\\Users\\damia\\anaconda3\\envs\\SpotifyPlaylistMaker\\Lib\\site-packages\\google\\oauth2\\service_account.py:243\u001b[39m, in \u001b[36mCredentials.from_service_account_info\u001b[39m\u001b[34m(cls, info, **kwargs)\u001b[39m\n\u001b[32m    227\u001b[39m \u001b[38;5;129m@classmethod\u001b[39m\n\u001b[32m    228\u001b[39m \u001b[38;5;28;01mdef\u001b[39;00m\u001b[38;5;250m \u001b[39m\u001b[34mfrom_service_account_info\u001b[39m(\u001b[38;5;28mcls\u001b[39m, info, **kwargs):\n\u001b[32m    229\u001b[39m \u001b[38;5;250m    \u001b[39m\u001b[33;03m\"\"\"Creates a Credentials instance from parsed service account info.\u001b[39;00m\n\u001b[32m    230\u001b[39m \n\u001b[32m    231\u001b[39m \u001b[33;03m    Args:\u001b[39;00m\n\u001b[32m   (...)\u001b[39m\u001b[32m    241\u001b[39m \u001b[33;03m        ValueError: If the info is not in the expected format.\u001b[39;00m\n\u001b[32m    242\u001b[39m \u001b[33;03m    \"\"\"\u001b[39;00m\n\u001b[32m--> \u001b[39m\u001b[32m243\u001b[39m     signer = \u001b[43m_service_account_info\u001b[49m\u001b[43m.\u001b[49m\u001b[43mfrom_dict\u001b[49m\u001b[43m(\u001b[49m\n\u001b[32m    244\u001b[39m \u001b[43m        \u001b[49m\u001b[43minfo\u001b[49m\u001b[43m,\u001b[49m\u001b[43m \u001b[49m\u001b[43mrequire\u001b[49m\u001b[43m=\u001b[49m\u001b[43m[\u001b[49m\u001b[33;43m\"\u001b[39;49m\u001b[33;43mclient_email\u001b[39;49m\u001b[33;43m\"\u001b[39;49m\u001b[43m,\u001b[49m\u001b[43m \u001b[49m\u001b[33;43m\"\u001b[39;49m\u001b[33;43mtoken_uri\u001b[39;49m\u001b[33;43m\"\u001b[39;49m\u001b[43m]\u001b[49m\n\u001b[32m    245\u001b[39m \u001b[43m    \u001b[49m\u001b[43m)\u001b[49m\n\u001b[32m    246\u001b[39m     \u001b[38;5;28;01mreturn\u001b[39;00m \u001b[38;5;28mcls\u001b[39m._from_signer_and_info(signer, info, **kwargs)\n",
                        "\u001b[36mFile \u001b[39m\u001b[32mc:\\Users\\damia\\anaconda3\\envs\\SpotifyPlaylistMaker\\Lib\\site-packages\\google\\auth\\_service_account_info.py:57\u001b[39m, in \u001b[36mfrom_dict\u001b[39m\u001b[34m(data, require, use_rsa_signer)\u001b[39m\n\u001b[32m     55\u001b[39m \u001b[38;5;66;03m# Create a signer.\u001b[39;00m\n\u001b[32m     56\u001b[39m \u001b[38;5;28;01mif\u001b[39;00m use_rsa_signer:\n\u001b[32m---> \u001b[39m\u001b[32m57\u001b[39m     signer = \u001b[43mcrypt\u001b[49m\u001b[43m.\u001b[49m\u001b[43mRSASigner\u001b[49m\u001b[43m.\u001b[49m\u001b[43mfrom_service_account_info\u001b[49m\u001b[43m(\u001b[49m\u001b[43mdata\u001b[49m\u001b[43m)\u001b[49m\n\u001b[32m     58\u001b[39m \u001b[38;5;28;01melse\u001b[39;00m:\n\u001b[32m     59\u001b[39m     signer = crypt.ES256Signer.from_service_account_info(data)\n",
                        "\u001b[36mFile \u001b[39m\u001b[32mc:\\Users\\damia\\anaconda3\\envs\\SpotifyPlaylistMaker\\Lib\\site-packages\\google\\auth\\crypt\\base.py:109\u001b[39m, in \u001b[36mFromServiceAccountMixin.from_service_account_info\u001b[39m\u001b[34m(cls, info)\u001b[39m\n\u001b[32m    104\u001b[39m \u001b[38;5;28;01mif\u001b[39;00m _JSON_FILE_PRIVATE_KEY \u001b[38;5;129;01mnot\u001b[39;00m \u001b[38;5;129;01min\u001b[39;00m info:\n\u001b[32m    105\u001b[39m     \u001b[38;5;28;01mraise\u001b[39;00m exceptions.MalformedError(\n\u001b[32m    106\u001b[39m         \u001b[33m\"\u001b[39m\u001b[33mThe private_key field was not found in the service account \u001b[39m\u001b[33m\"\u001b[39m \u001b[33m\"\u001b[39m\u001b[33minfo.\u001b[39m\u001b[33m\"\u001b[39m\n\u001b[32m    107\u001b[39m     )\n\u001b[32m--> \u001b[39m\u001b[32m109\u001b[39m \u001b[38;5;28;01mreturn\u001b[39;00m \u001b[38;5;28;43mcls\u001b[39;49m\u001b[43m.\u001b[49m\u001b[43mfrom_string\u001b[49m\u001b[43m(\u001b[49m\n\u001b[32m    110\u001b[39m \u001b[43m    \u001b[49m\u001b[43minfo\u001b[49m\u001b[43m[\u001b[49m\u001b[43m_JSON_FILE_PRIVATE_KEY\u001b[49m\u001b[43m]\u001b[49m\u001b[43m,\u001b[49m\u001b[43m \u001b[49m\u001b[43minfo\u001b[49m\u001b[43m.\u001b[49m\u001b[43mget\u001b[49m\u001b[43m(\u001b[49m\u001b[43m_JSON_FILE_PRIVATE_KEY_ID\u001b[49m\u001b[43m)\u001b[49m\n\u001b[32m    111\u001b[39m \u001b[43m\u001b[49m\u001b[43m)\u001b[49m\n",
                        "\u001b[36mFile \u001b[39m\u001b[32mc:\\Users\\damia\\anaconda3\\envs\\SpotifyPlaylistMaker\\Lib\\site-packages\\google\\auth\\crypt\\_python_rsa.py:173\u001b[39m, in \u001b[36mRSASigner.from_string\u001b[39m\u001b[34m(cls, key, key_id)\u001b[39m\n\u001b[32m    169\u001b[39m     private_key = rsa.key.PrivateKey.load_pkcs1(\n\u001b[32m    170\u001b[39m         private_key_info.asOctets(), \u001b[38;5;28mformat\u001b[39m=\u001b[33m\"\u001b[39m\u001b[33mDER\u001b[39m\u001b[33m\"\u001b[39m\n\u001b[32m    171\u001b[39m     )\n\u001b[32m    172\u001b[39m \u001b[38;5;28;01melse\u001b[39;00m:\n\u001b[32m--> \u001b[39m\u001b[32m173\u001b[39m     \u001b[38;5;28;01mraise\u001b[39;00m exceptions.MalformedError(\u001b[33m\"\u001b[39m\u001b[33mNo key could be detected.\u001b[39m\u001b[33m\"\u001b[39m)\n\u001b[32m    175\u001b[39m \u001b[38;5;28;01mreturn\u001b[39;00m \u001b[38;5;28mcls\u001b[39m(private_key, key_id=key_id)\n",
                        "\u001b[31mMalformedError\u001b[39m: No key could be detected."
                    ]
                }
            ],
            "source": [
                "# client = bigquery.Client.from_service_account_json(key)\n",
                "client = bigquery.Client.from_service_account_info(json_key)"
            ]
        },
        {
            "cell_type": "code",
            "execution_count": null,
            "id": "c1b73ee5",
            "metadata": {},
            "outputs": [],
            "source": [
                "query = f\"\"\"\n",
                "    SELECT * \n",
                "    FROM `spotify-playlists-manager.analytics_491860361.events_{date_transformed}` \n",
                "    LIMIT 1000\n",
                "\"\"\""
            ]
        },
        {
            "cell_type": "code",
            "execution_count": null,
            "id": "33e3e5d8",
            "metadata": {},
            "outputs": [],
            "source": [
                "query_job = client.query(query)"
            ]
        },
        {
            "cell_type": "code",
            "execution_count": null,
            "id": "7f19bedc",
            "metadata": {},
            "outputs": [],
            "source": [
                "results = query_job.to_dataframe()"
            ]
        },
        {
            "cell_type": "code",
            "execution_count": null,
            "id": "2df23d29",
            "metadata": {},
            "outputs": [],
            "source": [
                "results.info()"
            ]
        },
        {
            "cell_type": "code",
            "execution_count": null,
            "id": "cb98bc0f",
            "metadata": {},
            "outputs": [],
            "source": [
                "results.head(5)"
            ]
        },
        {
            "cell_type": "code",
            "execution_count": null,
            "id": "6c4073ac",
            "metadata": {},
            "outputs": [],
            "source": [
                "results_filtered_button_clicks = results.loc[results['event_name'] == 'button_click']"
            ]
        },
        {
            "cell_type": "code",
            "execution_count": null,
            "id": "1092b1b5",
            "metadata": {},
            "outputs": [],
            "source": [
                "results_filtered_button_clicks = results_filtered_button_clicks[['event_date', \n",
                "                                                                 'event_timestamp',\n",
                "                                                                 'event_name',\n",
                "                                                                 'event_params']]"
            ]
        },
        {
            "cell_type": "code",
            "execution_count": null,
            "id": "fcad9d2a",
            "metadata": {},
            "outputs": [],
            "source": [
                "results_filtered_button_clicks"
            ]
        },
        {
            "cell_type": "code",
            "execution_count": null,
            "id": "df1508ad",
            "metadata": {},
            "outputs": [],
            "source": [
                "results_filtered_button_clicks.count()\n",
                "# old len 12"
            ]
        },
        {
            "cell_type": "code",
            "execution_count": null,
            "id": "7329aec6",
            "metadata": {},
            "outputs": [],
            "source": [
                "results_filtered_button_clicks['event_params'].value_counts()"
            ]
        },
        {
            "cell_type": "code",
            "execution_count": null,
            "id": "fcfdaa8c",
            "metadata": {},
            "outputs": [],
            "source": [
                "def get_params(row):\n",
                "    \n",
                "    param_list = row['event_params']\n",
                "    \n",
                "    for element in param_list:\n",
                "            if element['key'] == 'event_label':\n",
                "                    row['event_label'] = element['value']['string_value']\n",
                "    \n",
                "    return row"
            ]
        },
        {
            "cell_type": "code",
            "execution_count": null,
            "id": "904eac3d",
            "metadata": {},
            "outputs": [],
            "source": [
                "fesults_with_params_extracted = results_filtered_button_clicks.apply(lambda row : get_params(row), axis=1)"
            ]
        },
        {
            "cell_type": "code",
            "execution_count": null,
            "id": "3c6953b8",
            "metadata": {},
            "outputs": [],
            "source": [
                "fesults_with_params_extracted"
            ]
        },
        {
            "cell_type": "code",
            "execution_count": null,
            "id": "17b67ef0",
            "metadata": {},
            "outputs": [],
            "source": [
                "clicks_count = fesults_with_params_extracted['event_label'].value_counts()"
            ]
        },
        {
            "cell_type": "code",
            "execution_count": null,
            "id": "43cb2caf",
            "metadata": {},
            "outputs": [],
            "source": [
                "clicks_count_df = pd.DataFrame(clicks_count).reset_index()\n",
                "clicks_count_df"
            ]
        },
        {
            "cell_type": "code",
            "execution_count": null,
            "id": "a8c41f72",
            "metadata": {},
            "outputs": [],
            "source": [
                "import matplotlib.pyplot as plt\n",
                "import matplotlib.image as mpimg\n",
                "from matplotlib.offsetbox import OffsetImage, AnnotationBbox\n",
                "import seaborn as sns\n",
                "from reportlab.pdfgen import canvas\n",
                "from reportlab.lib.pagesizes import A4"
            ]
        },
        {
            "cell_type": "code",
            "execution_count": null,
            "id": "c774d6c7",
            "metadata": {},
            "outputs": [],
            "source": [
                "sns.set_style(\"white\", {\"grid.color\": \"#2A2A2A\"})\n",
                "\n",
                "fig, ax = plt.subplots(figsize=(5, 3))\n",
                "\n",
                "sns.barplot(x=clicks_count_df['count'], \n",
                "            y=clicks_count_df['event_label'],\n",
                "            hue=clicks_count_df['event_label'],\n",
                "            palette = \"plasma\",\n",
                "            legend=False)\n",
                "\n",
                "ax.grid(color='#808080', axis='x', linestyle='-', linewidth=0.5)\n",
                "ax.set_ylabel(\"\")\n",
                "ax.set_xlabel(\"\")\n",
                "ax.tick_params(axis='y', labelleft=False)\n",
                "ax.set_title(f\"{date} Playlists buttons clicks on the link tree\", \n",
                "             loc='center',\n",
                "             pad=10)"
            ]
        }
    ],
    "metadata": {
        "kernelspec": {
            "display_name": "SpotifyPlaylistMaker",
            "language": "python",
            "name": "python3"
        },
        "language_info": {
            "codemirror_mode": {
                "name": "ipython",
                "version": 3
            },
            "file_extension": ".py",
            "mimetype": "text/x-python",
            "name": "python",
            "nbconvert_exporter": "python",
            "pygments_lexer": "ipython3",
            "version": "3.12.8"
        }
    },
    "nbformat": 4,
    "nbformat_minor": 5
}
