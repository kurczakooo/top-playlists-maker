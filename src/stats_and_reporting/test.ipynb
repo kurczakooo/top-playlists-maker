{
 "cells": [
  {
   "cell_type": "markdown",
   "id": "e7d9413f",
   "metadata": {},
   "source": [
    "#### **OBJECTIVES**\n",
    "\n",
    "The goal is to ingest traffic and behaviour data from GA4, which is integrated with the LINK-TREE for the playlists using BigQuery, and create custom reports in a form of pdfs similar to the followers reports. The idea came from the fact that GA4 standalone is not intuitive for reporting purposes, can't be as flexible as custom reports, and I don't want to be dependent on the platform. That's why all the event data from GA4 is transfered to BigQuery, and with the use of the official API it can be easily extracted and used.\n",
    "\n",
    "##### **REPORT PLAN / VISUALIZATION**\n",
    "The most important things that need to be included in the report are:\n",
    "- DAILY GRANURALITY:\n",
    "  - Overall traffic, (bar chart or line chart with last 7 days)\n",
    "  - Traffic sources distribution, (a pie chart)\n",
    "  - Playlist link button clicks distribution, (horizontal bar chart)\n",
    "  - Social link button clicks distribution, (vertival bar chart)\n",
    "  - Singular Descriptive values like:\n",
    "    - sum(playlist buttons clicks) / traffic -> CTR for playlist buttons\n",
    "    - sum(social buttons clicks) / traffic -> CTR for social buttons\n",
    "    - avg(timestamp of clicking a button - timestamp of entering the page)\n",
    "\n",
    "The rest is TDB.\n",
    "A mock report visualization made in canva is attached in the repo locally.\n",
    "\n",
    "\n",
    "##### **EVENTS CUSTOMIZED FOR REPORTING PURPOSES:**\n",
    "- ##### Playlist link button click event:\n",
    "    - event_name : 'button_click'\n",
    "    - event_category : 'playlist'\n",
    "    - event_label : playlist mapping id e.g. top_200_global\n",
    "- ##### Social link button click event:\n",
    "    - **TBD**\n",
    "\n",
    "##### **DATA NEEDED FOR THE REPORTS:**\n",
    "- Daily playlist button click events,\n",
    "- Daily social button click events,\n",
    "- Daily amount of users on the website\n",
    "- Source of the user traffic, e.g. Organic, Tiktok, Instagram\n",
    "- User level data: user time on the website, user id for users comparison, timestamp of clicking a button, timestamp of enterign the website, timestamp of leaving the website\n",
    "  "
   ]
  },
  {
   "cell_type": "code",
   "execution_count": null,
   "id": "d8c8067f",
   "metadata": {},
   "outputs": [],
   "source": [
    "from google.cloud import bigquery\n",
    "import db_dtypes\n",
    "\n",
    "import pandas as pd\n",
    "import numpy as np\n",
    "import json\n",
    "\n",
    "from dotenv import load_dotenv\n",
    "import os"
   ]
  },
  {
   "cell_type": "code",
   "execution_count": null,
   "id": "8d762b62",
   "metadata": {},
   "outputs": [],
   "source": [
    "date = \"29/07/2025\"\n",
    "\n",
    "date_transformed = \"\".join([x for x in date.split(\"/\")[::-1]])\n",
    "\n",
    "date_transformed"
   ]
  },
  {
   "cell_type": "code",
   "execution_count": null,
   "id": "91da80f3",
   "metadata": {},
   "outputs": [],
   "source": [
    "load_dotenv()\n",
    "\n",
    "big_query_credentials = os.getenv(\"BIG_QUERY_CREDENTIALS\")\n",
    "big_query_credentials = big_query_credentials.replace(\"\\\\\\n\", \"\\\\n\")\n",
    "big_query_credentials"
   ]
  },
  {
   "cell_type": "code",
   "execution_count": null,
   "id": "bc3e6db2",
   "metadata": {},
   "outputs": [],
   "source": [
    "json_key = json.loads(big_query_credentials)\n",
    "json_key"
   ]
  },
  {
   "cell_type": "code",
   "execution_count": null,
   "id": "fe23ca71",
   "metadata": {},
   "outputs": [],
   "source": [
    "# client = bigquery.Client.from_service_account_json(key)\n",
    "client = bigquery.Client.from_service_account_info(json_key)"
   ]
  },
  {
   "cell_type": "code",
   "execution_count": null,
   "id": "c1b73ee5",
   "metadata": {},
   "outputs": [],
   "source": [
    "query = f\"\"\"\n",
    "    SELECT * \n",
    "    FROM `spotify-playlists-manager.analytics_491860361.events_{date_transformed}` \n",
    "    LIMIT 1000\n",
    "\"\"\""
   ]
  },
  {
   "cell_type": "code",
   "execution_count": null,
   "id": "33e3e5d8",
   "metadata": {},
   "outputs": [],
   "source": [
    "query_job = client.query(query)"
   ]
  },
  {
   "cell_type": "code",
   "execution_count": null,
   "id": "7f19bedc",
   "metadata": {},
   "outputs": [],
   "source": [
    "results = query_job.to_dataframe()"
   ]
  },
  {
   "cell_type": "code",
   "execution_count": null,
   "id": "2df23d29",
   "metadata": {},
   "outputs": [],
   "source": [
    "results.info()"
   ]
  },
  {
   "cell_type": "code",
   "execution_count": null,
   "id": "cb98bc0f",
   "metadata": {},
   "outputs": [],
   "source": [
    "results.head(5)"
   ]
  },
  {
   "cell_type": "code",
   "execution_count": null,
   "id": "6c4073ac",
   "metadata": {},
   "outputs": [],
   "source": [
    "results_filtered_button_clicks = results.loc[results['event_name'] == 'button_click']"
   ]
  },
  {
   "cell_type": "code",
   "execution_count": null,
   "id": "1092b1b5",
   "metadata": {},
   "outputs": [],
   "source": [
    "results_filtered_button_clicks = results_filtered_button_clicks[['event_date', \n",
    "                                                                 'event_timestamp',\n",
    "                                                                 'event_name',\n",
    "                                                                 'event_params']]"
   ]
  },
  {
   "cell_type": "code",
   "execution_count": null,
   "id": "fcad9d2a",
   "metadata": {},
   "outputs": [],
   "source": [
    "results_filtered_button_clicks"
   ]
  },
  {
   "cell_type": "code",
   "execution_count": null,
   "id": "df1508ad",
   "metadata": {},
   "outputs": [],
   "source": [
    "results_filtered_button_clicks.count()\n",
    "# old len 12"
   ]
  },
  {
   "cell_type": "code",
   "execution_count": null,
   "id": "7329aec6",
   "metadata": {},
   "outputs": [],
   "source": [
    "results_filtered_button_clicks['event_params'].value_counts()"
   ]
  },
  {
   "cell_type": "code",
   "execution_count": null,
   "id": "fcfdaa8c",
   "metadata": {},
   "outputs": [],
   "source": [
    "def get_params(row):\n",
    "    \n",
    "    param_list = row['event_params']\n",
    "    \n",
    "    for element in param_list:\n",
    "            if element['key'] == 'event_label':\n",
    "                    row['event_label'] = element['value']['string_value']\n",
    "    \n",
    "    return row"
   ]
  },
  {
   "cell_type": "code",
   "execution_count": null,
   "id": "904eac3d",
   "metadata": {},
   "outputs": [],
   "source": [
    "fesults_with_params_extracted = results_filtered_button_clicks.apply(lambda row : get_params(row), axis=1)"
   ]
  },
  {
   "cell_type": "code",
   "execution_count": null,
   "id": "3c6953b8",
   "metadata": {},
   "outputs": [],
   "source": [
    "fesults_with_params_extracted"
   ]
  },
  {
   "cell_type": "code",
   "execution_count": null,
   "id": "17b67ef0",
   "metadata": {},
   "outputs": [],
   "source": [
    "clicks_count = fesults_with_params_extracted['event_label'].value_counts()"
   ]
  },
  {
   "cell_type": "code",
   "execution_count": null,
   "id": "43cb2caf",
   "metadata": {},
   "outputs": [],
   "source": [
    "clicks_count_df = pd.DataFrame(clicks_count).reset_index()\n",
    "clicks_count_df"
   ]
  },
  {
   "cell_type": "code",
   "execution_count": null,
   "id": "a8c41f72",
   "metadata": {},
   "outputs": [],
   "source": [
    "import matplotlib.pyplot as plt\n",
    "import matplotlib.image as mpimg\n",
    "from matplotlib.offsetbox import OffsetImage, AnnotationBbox\n",
    "import seaborn as sns\n",
    "from reportlab.pdfgen import canvas\n",
    "from reportlab.lib.pagesizes import A4"
   ]
  },
  {
   "cell_type": "code",
   "execution_count": null,
   "id": "c774d6c7",
   "metadata": {},
   "outputs": [],
   "source": [
    "sns.set_style(\"white\", {\"grid.color\": \"#2A2A2A\"})\n",
    "\n",
    "fig, ax = plt.subplots(figsize=(5, 3))\n",
    "\n",
    "sns.barplot(x=clicks_count_df['count'], \n",
    "            y=clicks_count_df['event_label'],\n",
    "            hue=clicks_count_df['event_label'],\n",
    "            palette = \"plasma\",\n",
    "            legend=False)\n",
    "\n",
    "ax.grid(color='#808080', axis='x', linestyle='-', linewidth=0.5)\n",
    "ax.set_ylabel(\"\")\n",
    "ax.set_xlabel(\"\")\n",
    "ax.tick_params(axis='y', labelleft=False)\n",
    "ax.set_title(f\"{date} Playlists buttons clicks on the link tree\", \n",
    "             loc='center',\n",
    "             pad=10)"
   ]
  }
 ],
 "metadata": {
  "kernelspec": {
   "display_name": "SpotifyPlaylistMaker",
   "language": "python",
   "name": "python3"
  },
  "language_info": {
   "codemirror_mode": {
    "name": "ipython",
    "version": 3
   },
   "file_extension": ".py",
   "mimetype": "text/x-python",
   "name": "python",
   "nbconvert_exporter": "python",
   "pygments_lexer": "ipython3",
   "version": "3.12.8"
  }
 },
 "nbformat": 4,
 "nbformat_minor": 5
}
