{
 "cells": [
  {
   "cell_type": "markdown",
   "id": "dc984a8a",
   "metadata": {},
   "source": [
    "## Fetch data about current playlists, update the covers, and json file "
   ]
  },
  {
   "cell_type": "markdown",
   "id": "8ad06d7c",
   "metadata": {},
   "source": [
    "### 0. Import libraries"
   ]
  },
  {
   "cell_type": "code",
   "execution_count": null,
   "id": "39d84a0e",
   "metadata": {},
   "outputs": [],
   "source": [
    "import sys\n",
    "sys.path.append(\"../../\")\n",
    "\n",
    "from src.common.config import setup_logger\n",
    "from src.common.spotify_auth import execute_spotify_auth\n",
    "from src.common.telegram_alerts import init_telegram_bot, send_telegram_message\n",
    "\n",
    "from spotipy import Spotify\n",
    "import requests\n",
    "import json\n",
    "\n",
    "from io import BytesIO\n",
    "from PIL import Image\n",
    "import logging\n",
    "import asyncio\n",
    "import os\n",
    "import subprocess\n",
    "from dotenv import load_dotenv"
   ]
  },
  {
   "cell_type": "markdown",
   "id": "b8cec4f2",
   "metadata": {},
   "source": [
    "### 1. Custom functions"
   ]
  },
  {
   "cell_type": "code",
   "execution_count": null,
   "id": "5beebd43",
   "metadata": {},
   "outputs": [],
   "source": [
    "def get_playlists_data(sp: Spotify, \n",
    "                       cover_images_folder: str,\n",
    "                       logger: logging.Logger) -> list[dict[str, str]]:\n",
    "    \n",
    "    playlists = sp.current_user_playlists()\n",
    "    playlists_json = []\n",
    "    \n",
    "    for playlist in playlists['items']:\n",
    "        name = playlist['name']\n",
    "        description = playlist['description']\n",
    "        url = playlist['external_urls']['spotify']\n",
    "        cleared_name = \"_\".join(name.encode('ascii', 'ignore').decode().lower().split())\n",
    "        playlist_id = playlist['id']\n",
    "        \n",
    "        # looking for the playlist based on id to get details\n",
    "        logger.info(f\"Extracting {name} info.\")\n",
    "        playlist_details = sp.playlist(playlist_id) \n",
    "        \n",
    "        logger.info(f\"Extracting {name} cover image.\")\n",
    "        # getting and saving playlist cover to a file\n",
    "        cover_url = playlist_details['images'][0]['url']\n",
    "        \n",
    "        response = requests.get(cover_url)\n",
    "        response.raise_for_status()\n",
    "        cover_image = Image.open(BytesIO(response.content))\n",
    "        \n",
    "        cover_image.save(f\"{cover_images_folder}/{cleared_name}.png\")\n",
    "        \n",
    "        logger.info(f\"Extracting {name} details for the playlists json.\")\n",
    "        playlist_json_item = {\n",
    "            \"label\": name,\n",
    "            \"description\" : description,\n",
    "            \"image\": f\"{cleared_name}.png\",\n",
    "            \"url\": url,\n",
    "            \"button_id\": cleared_name\n",
    "        }\n",
    "        playlists_json.append(playlist_json_item)\n",
    "\n",
    "    return playlists_json"
   ]
  },
  {
   "cell_type": "markdown",
   "id": "7ae30fca",
   "metadata": {},
   "source": [
    "### 2. Environment variables"
   ]
  },
  {
   "cell_type": "code",
   "execution_count": null,
   "id": "23cb3397",
   "metadata": {},
   "outputs": [],
   "source": [
    "# in dev do ../\n",
    "# in prod do src/\n",
    "\n",
    "data_folder_path = \"src/\"\n",
    "\n",
    "covers_url = data_folder_path + \"data/assets/covers\"\n",
    "json_url = data_folder_path + \"data/playlists.json\"\n"
   ]
  },
  {
   "cell_type": "markdown",
   "id": "3c684602",
   "metadata": {},
   "source": [
    "### 3. Run the code"
   ]
  },
  {
   "cell_type": "code",
   "execution_count": null,
   "id": "e5610e53",
   "metadata": {},
   "outputs": [],
   "source": [
    "logger = setup_logger(\"fetch_playlist_info.py\")\n",
    "logger.info('Starting job initialization.')"
   ]
  },
  {
   "cell_type": "code",
   "execution_count": null,
   "id": "8b41a5bd",
   "metadata": {},
   "outputs": [],
   "source": [
    "try:\n",
    "\n",
    "    logger.info('Authorizing spotify access.')\n",
    "    sp = execute_spotify_auth(logger)\n",
    "    \n",
    "    logger.info('Authorizing and initializing telegram bot.')\n",
    "    bot, chat_id = init_telegram_bot()\n",
    "    \n",
    "    logger.info('Retrieving playlists data.')\n",
    "    playlist_json = get_playlists_data(sp, covers_url, logger)\n",
    "\n",
    "    logger.info('Overwriting playlists json.')\n",
    "    \n",
    "    with open(json_url, \"w\", encoding=\"utf-8\") as j:\n",
    "        json.dump(playlist_json, j, indent=4, ensure_ascii=False)\n",
    "        \n",
    "    asyncio.run(send_telegram_message(bot, chat_id, \"Playlists covers pulled, json updated locally.\", logger))\n",
    "    \n",
    "    logger.info('Job finished.')\n",
    "    \n",
    "except Exception as e:\n",
    "    logger.error(f'Playlist followers reports pipeline fail: {e}')"
   ]
  }
 ],
 "metadata": {
  "kernelspec": {
   "display_name": "SpotifyPlaylistMaker",
   "language": "python",
   "name": "python3"
  },
  "language_info": {
   "codemirror_mode": {
    "name": "ipython",
    "version": 3
   },
   "file_extension": ".py",
   "mimetype": "text/x-python",
   "name": "python",
   "nbconvert_exporter": "python",
   "pygments_lexer": "ipython3",
   "version": "3.12.8"
  }
 },
 "nbformat": 4,
 "nbformat_minor": 5
}
