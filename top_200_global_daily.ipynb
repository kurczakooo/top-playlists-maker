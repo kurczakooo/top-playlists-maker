{
 "cells": [
  {
   "cell_type": "markdown",
   "id": "5a35dec2",
   "metadata": {},
   "source": [
    "## Daily updated top 200 global spotify playlist "
   ]
  },
  {
   "cell_type": "markdown",
   "id": "efa79fbb",
   "metadata": {},
   "source": [
    "### 0. Import libraries"
   ]
  },
  {
   "cell_type": "code",
   "execution_count": 1,
   "id": "81fbf6b9",
   "metadata": {},
   "outputs": [],
   "source": [
    "from dotenv import load_dotenv\n",
    "import os\n",
    "\n",
    "from selenium import webdriver\n",
    "from selenium.webdriver.chrome.service import Service\n",
    "from selenium.webdriver.common.by import By\n",
    "from selenium.webdriver.support.ui import WebDriverWait\n",
    "from selenium.webdriver.support import expected_conditions as EC\n",
    "from bs4 import BeautifulSoup\n",
    "\n",
    "import logging\n",
    "import pandas as pd\n",
    "from fuzzywuzzy import fuzz\n",
    "import re\n",
    "\n",
    "import spotipy\n",
    "from spotipy.oauth2 import SpotifyOAuth\n",
    "\n",
    "from chromedriver_config.chromedriver_config import chrome_options, user_agent_string_override_command"
   ]
  },
  {
   "cell_type": "markdown",
   "id": "4f8cfa9e",
   "metadata": {},
   "source": [
    "### 1. Custom functions"
   ]
  },
  {
   "cell_type": "code",
   "execution_count": 2,
   "id": "0186ee05",
   "metadata": {},
   "outputs": [],
   "source": [
    "def scrape_billboard_global_200(driver: webdriver, \n",
    "                                class_name: str,\n",
    "                                load_time: int = 20,\n",
    "                                amount: int = 200) -> list[str]:\n",
    "    try:\n",
    "        WebDriverWait(driver, load_time).until(\n",
    "            EC.presence_of_all_elements_located((By.CLASS_NAME, class_name))\n",
    "        )\n",
    "        html = driver.page_source\n",
    "        soup = BeautifulSoup(html, 'html.parser')\n",
    "        unfiltered_songs = soup.find_all('div', class_ = class_name)\n",
    "        return unfiltered_songs\n",
    "    except Exception as e:\n",
    "        print(f'Scraping Error: {e}')\n",
    "    finally:\n",
    "        driver.quit()\n",
    "        "
   ]
  },
  {
   "cell_type": "code",
   "execution_count": 3,
   "id": "9cd2b808",
   "metadata": {},
   "outputs": [],
   "source": [
    "def filter_names_artists_pos(unfiltered_songs: list[str], \n",
    "                             song_html_id: str, \n",
    "                             artist_class: str, \n",
    "                             pos_class: str,\n",
    "                             df_columns: list[str],\n",
    "                             pattern: str) -> pd.DataFrame:\n",
    "    songs_list = []\n",
    "    for element in unfiltered_songs:\n",
    "        pos = int(element.find('span', class_ = pos_class).text.strip())\n",
    "        title = element.find('h3', id = song_html_id).text.strip()\n",
    "        artist = element.find('span', class_ = artist_class).text.strip()\n",
    "        artist = re.split(pattern, artist, maxsplit = 1)[0]\n",
    "        \n",
    "        songs_list.append([pos, title, artist])\n",
    "        \n",
    "    top_200_df = pd.DataFrame(data = songs_list, columns = df_columns)\n",
    "    \n",
    "    return top_200_df"
   ]
  },
  {
   "cell_type": "code",
   "execution_count": 4,
   "id": "80d87158",
   "metadata": {},
   "outputs": [],
   "source": [
    "def vaildate_top_200_df(top_200_df: pd.DataFrame, required_columns: list[str]) -> str:\n",
    "    assert top_200_df['pos'].count() == 200, 'Number of records is not 200.'\n",
    "    assert all(col in top_200_df.columns for col in required_columns), \"Missing required columns.\"\n",
    "    assert pd.to_numeric(top_200_df['pos'], errors='raise').notnull().all(), \"'pos' has non-numeric values.\"\n",
    "    assert top_200_df.notnull().all().all(), \"There are missing values!\"\n",
    "    assert top_200_df['pos'].is_monotonic_increasing, \"'pos' is not sorted!\"\n",
    "    assert top_200_df['pos'].is_unique, \"'pos' is not unique!\"\n",
    "    assert top_200_df['title'].is_unique, \"'title' is not unique!\"\n",
    "    assert not top_200_df[['pos', 'title', 'artist']].duplicated().any(), \"A record is duplicated.\"\n",
    "    assert not top_200_df[['title', 'artist']].duplicated().any(), \"A song is duplicated.\"\n",
    "    \n",
    "    return 'OK'"
   ]
  },
  {
   "cell_type": "code",
   "execution_count": 5,
   "id": "bccd19e7",
   "metadata": {},
   "outputs": [],
   "source": [
    "def search_for_track(row, sp: spotipy.Spotify):\n",
    "    query = f\"{row['title']} {row['artist']}\"\n",
    "    result = sp.search(q = query, type='track', limit = 5)\n",
    "    \n",
    "    results_scores_dict = {}\n",
    "    \n",
    "    if result['tracks']['items']:\n",
    "        for track in result['tracks']['items']:\n",
    "            spotify_title = track['name']\n",
    "            spotify_artists = \", \".join([artist['name'] for artist in track['artists']])\n",
    "            uri = track['uri']\n",
    "            \n",
    "            title_score = fuzz.token_set_ratio(row['title'], spotify_title)\n",
    "            artist_score = fuzz.token_set_ratio(row['artist'], spotify_artists)\n",
    "            total_score = (title_score + artist_score) / 2\n",
    "            \n",
    "            results_scores_dict[total_score] = uri\n",
    "            \n",
    "        max_score = 0\n",
    "        for score, uri in results_scores_dict.items():\n",
    "            if score > max_score:\n",
    "                max_score = score\n",
    "                \n",
    "        return results_scores_dict[max_score]\n",
    "    return None\n"
   ]
  },
  {
   "cell_type": "code",
   "execution_count": 6,
   "id": "a449d6ad",
   "metadata": {},
   "outputs": [],
   "source": [
    "def get_songs_ids_from_spotify(top_200_df: pd.DataFrame, sp: spotipy.Spotify) -> pd.DataFrame:\n",
    "    \n",
    "    top_200_df['uri'] = top_200_df.apply(search_for_track, axis=1, args = (sp,))\n",
    "    \n",
    "    return top_200_df"
   ]
  },
  {
   "cell_type": "code",
   "execution_count": 7,
   "id": "84a91422",
   "metadata": {},
   "outputs": [],
   "source": [
    "def update_top_200_global(top_200_df: pd.DataFrame, sp: spotipy.Spotify, playlist_name: str) -> pd.DataFrame:\n",
    "    \n",
    "    tracks = top_200_df['uri'].to_list()\n",
    "    tracks1, tracks2 = tracks[0 : 100], tracks[100 : 200]\n",
    "    playlists = sp.current_user_playlists()\n",
    "    top_200_id = \"\"\n",
    "    \n",
    "    for playlist in playlists['items']:\n",
    "        if playlist['name'] == playlist_name:\n",
    "            top_200_id = playlist['id']\n",
    "            \n",
    "\n",
    "    sp.playlist_replace_items(top_200_id, [])\n",
    "    \n",
    "    sp.playlist_add_items(top_200_id, tracks1)\n",
    "    sp.playlist_add_items(top_200_id, tracks2)\n",
    "    \n",
    "    return top_200_df"
   ]
  },
  {
   "cell_type": "markdown",
   "id": "7e1d47b1",
   "metadata": {},
   "source": [
    "### 2. Environment variables"
   ]
  },
  {
   "cell_type": "code",
   "execution_count": 8,
   "id": "ad3b106b",
   "metadata": {},
   "outputs": [],
   "source": [
    "load_dotenv()\n",
    "id = os.getenv('ID')\n",
    "secret = os.getenv('SECRET')\n",
    "uri = os.getenv('URI')"
   ]
  },
  {
   "cell_type": "code",
   "execution_count": 9,
   "id": "6fd922ee",
   "metadata": {},
   "outputs": [],
   "source": [
    "global_200_url = \"https://www.billboard.com/charts/billboard-global-200/\"\n",
    "\n",
    "chromedriver_path = './chromedriver-win64/chromedriver.exe'\n",
    "\n",
    "html_class = 'o-chart-results-list-row-container'\n",
    "pos_class = 'c-label a-font-primary-bold-l u-font-size-32@tablet u-letter-spacing-0080@tablet'\n",
    "song_html_id = 'title-of-a-story'\n",
    "artist_class = 'a-no-trucate'\n",
    "\n",
    "top_200_df_columns = ['pos', 'title', 'artist']\n",
    "top_200_playlist_name = 'TOP 200 GLOBAL'\n",
    "\n",
    "separators = [\" Featuring \", \" & \", \" X \", \" feat. \", \" featuring \", \" with \", \", \"]\n",
    "\n",
    "pattern = \"|\".join(map(re.escape, separators))"
   ]
  },
  {
   "cell_type": "markdown",
   "id": "17e8da82",
   "metadata": {},
   "source": [
    "### 3. Run the code"
   ]
  },
  {
   "cell_type": "code",
   "execution_count": 10,
   "id": "e8a6180d",
   "metadata": {},
   "outputs": [],
   "source": [
    "sp = spotipy.Spotify(auth_manager=SpotifyOAuth(client_id=id, \n",
    "                                               client_secret=secret, \n",
    "                                               redirect_uri=uri,\n",
    "                                               scope=\"user-library-read playlist-modify-public playlist-modify-private playlist-read-private playlist-read-collaborative\"))\n",
    "\n",
    "service = Service(chromedriver_path)\n",
    "driver = webdriver.Chrome(service = service, options = chrome_options)"
   ]
  },
  {
   "cell_type": "code",
   "execution_count": 11,
   "id": "20882947",
   "metadata": {},
   "outputs": [],
   "source": [
    "# SCRAPING THE TOP 200 GLOABAL FROM BILLBOARD\n",
    "driver.execute_cdp_cmd('Network.setUserAgentOverride', {'userAgent' : user_agent_string_override_command})\n",
    "\n",
    "driver.get(global_200_url)\n",
    "\n",
    "songs = scrape_billboard_global_200(driver, html_class)\n",
    "\n",
    "assert len(songs) == 200, 'Number of html elements is not 200.'\n",
    "\n",
    "# TRASFORMING THE DATA TO A DF, DO QC\n",
    "top_200_df = filter_names_artists_pos(songs, \n",
    "                                      song_html_id, \n",
    "                                      artist_class, \n",
    "                                      pos_class, \n",
    "                                      top_200_df_columns, \n",
    "                                      pattern)\n",
    "\n",
    "assert vaildate_top_200_df(top_200_df, top_200_df_columns) == 'OK'\n",
    "    \n",
    "# GET SONGS FROM SPOTIFY\n",
    "top_200_df = get_songs_ids_from_spotify(top_200_df, sp)\n",
    "\n",
    "# REFRESH TOP 200 GLOBAL PLAYLIST\n",
    "top_200_df = update_top_200_global(top_200_df, sp, top_200_playlist_name)"
   ]
  }
 ],
 "metadata": {
  "kernelspec": {
   "display_name": "SpotifyPlaylistMaker",
   "language": "python",
   "name": "python3"
  },
  "language_info": {
   "codemirror_mode": {
    "name": "ipython",
    "version": 3
   },
   "file_extension": ".py",
   "mimetype": "text/x-python",
   "name": "python",
   "nbconvert_exporter": "python",
   "pygments_lexer": "ipython3",
   "version": "3.12.8"
  }
 },
 "nbformat": 4,
 "nbformat_minor": 5
}
